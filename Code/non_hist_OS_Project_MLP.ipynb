{
 "cells": [
  {
   "cell_type": "markdown",
   "metadata": {
    "id": "B0QLmjMWEdKO"
   },
   "source": [
    "# **1. Load and Explore the Dataset**"
   ]
  },
  {
   "cell_type": "markdown",
   "metadata": {
    "id": "RsBBIdPaEuvU"
   },
   "source": [
    "## **1.1 Load Required Libraries**"
   ]
  },
  {
   "cell_type": "code",
   "execution_count": 1,
   "metadata": {
    "id": "q8h4L53y5uUV"
   },
   "outputs": [],
   "source": [
    "import pandas as pd\n",
    "import numpy as np\n",
    "import matplotlib.pyplot as plt\n",
    "import seaborn as sns\n",
    "from sklearn.model_selection import train_test_split\n",
    "from sklearn.preprocessing import LabelEncoder\n",
    "from sklearn.metrics import mean_absolute_error, r2_score\n",
    "import torch\n",
    "import torch.nn as nn\n",
    "from torch.utils.data import Dataset, DataLoader"
   ]
  },
  {
   "cell_type": "markdown",
   "metadata": {
    "id": "mZ9zrRboEyNc"
   },
   "source": [
    "## **1.2: Load First 5000 Rows of Dataset**"
   ]
  },
  {
   "cell_type": "code",
   "execution_count": 2,
   "metadata": {
    "colab": {
     "base_uri": "https://localhost:8080/",
     "height": 290
    },
    "id": "PUhAVrHVErrO",
    "outputId": "a18929ca-39e9-4e8c-d3b5-5d70e62d4c1e"
   },
   "outputs": [
    {
     "name": "stdout",
     "output_type": "stream",
     "text": [
      "Shape: (404176, 29)\n"
     ]
    },
    {
     "data": {
      "text/html": [
       "<div>\n",
       "<style scoped>\n",
       "    .dataframe tbody tr th:only-of-type {\n",
       "        vertical-align: middle;\n",
       "    }\n",
       "\n",
       "    .dataframe tbody tr th {\n",
       "        vertical-align: top;\n",
       "    }\n",
       "\n",
       "    .dataframe thead th {\n",
       "        text-align: right;\n",
       "    }\n",
       "</style>\n",
       "<table border=\"1\" class=\"dataframe\">\n",
       "  <thead>\n",
       "    <tr style=\"text-align: right;\">\n",
       "      <th></th>\n",
       "      <th>JobID</th>\n",
       "      <th>SubmitTime</th>\n",
       "      <th>WaitTime</th>\n",
       "      <th>RunTime</th>\n",
       "      <th>NProcs</th>\n",
       "      <th>AverageCPUTimeUsed</th>\n",
       "      <th>Used Memory</th>\n",
       "      <th>ReqNProcs</th>\n",
       "      <th>ReqTime:</th>\n",
       "      <th>ReqMemory</th>\n",
       "      <th>...</th>\n",
       "      <th>JobStructureParams</th>\n",
       "      <th>UsedNetwork</th>\n",
       "      <th>UsedLocalDiskSpace</th>\n",
       "      <th>UsedResources</th>\n",
       "      <th>ReqPlatform</th>\n",
       "      <th>ReqNetwork</th>\n",
       "      <th>ReqLocalDiskSpace</th>\n",
       "      <th>ReqResources</th>\n",
       "      <th>VOID</th>\n",
       "      <th>ProjectID</th>\n",
       "    </tr>\n",
       "  </thead>\n",
       "  <tbody>\n",
       "    <tr>\n",
       "      <th>0</th>\n",
       "      <td>1</td>\n",
       "      <td>1136070024</td>\n",
       "      <td>203761</td>\n",
       "      <td>138467</td>\n",
       "      <td>1</td>\n",
       "      <td>138371</td>\n",
       "      <td>98652</td>\n",
       "      <td>1</td>\n",
       "      <td>259200</td>\n",
       "      <td>-1</td>\n",
       "      <td>...</td>\n",
       "      <td>-1</td>\n",
       "      <td>-1</td>\n",
       "      <td>-1</td>\n",
       "      <td>-1</td>\n",
       "      <td>-1</td>\n",
       "      <td>-1</td>\n",
       "      <td>-1</td>\n",
       "      <td>-1</td>\n",
       "      <td>-1</td>\n",
       "      <td>-1</td>\n",
       "    </tr>\n",
       "    <tr>\n",
       "      <th>1</th>\n",
       "      <td>2</td>\n",
       "      <td>1136070690</td>\n",
       "      <td>0</td>\n",
       "      <td>11</td>\n",
       "      <td>1</td>\n",
       "      <td>4</td>\n",
       "      <td>35848</td>\n",
       "      <td>1</td>\n",
       "      <td>259200</td>\n",
       "      <td>-1</td>\n",
       "      <td>...</td>\n",
       "      <td>-1</td>\n",
       "      <td>-1</td>\n",
       "      <td>-1</td>\n",
       "      <td>-1</td>\n",
       "      <td>-1</td>\n",
       "      <td>-1</td>\n",
       "      <td>-1</td>\n",
       "      <td>-1</td>\n",
       "      <td>-1</td>\n",
       "      <td>-1</td>\n",
       "    </tr>\n",
       "    <tr>\n",
       "      <th>2</th>\n",
       "      <td>3</td>\n",
       "      <td>1136071207</td>\n",
       "      <td>117</td>\n",
       "      <td>201203</td>\n",
       "      <td>1</td>\n",
       "      <td>0</td>\n",
       "      <td>0</td>\n",
       "      <td>1</td>\n",
       "      <td>259200</td>\n",
       "      <td>-1</td>\n",
       "      <td>...</td>\n",
       "      <td>-1</td>\n",
       "      <td>-1</td>\n",
       "      <td>-1</td>\n",
       "      <td>-1</td>\n",
       "      <td>-1</td>\n",
       "      <td>-1</td>\n",
       "      <td>-1</td>\n",
       "      <td>-1</td>\n",
       "      <td>-1</td>\n",
       "      <td>-1</td>\n",
       "    </tr>\n",
       "    <tr>\n",
       "      <th>3</th>\n",
       "      <td>4</td>\n",
       "      <td>1136071267</td>\n",
       "      <td>4406</td>\n",
       "      <td>196985</td>\n",
       "      <td>1</td>\n",
       "      <td>0</td>\n",
       "      <td>0</td>\n",
       "      <td>1</td>\n",
       "      <td>259200</td>\n",
       "      <td>-1</td>\n",
       "      <td>...</td>\n",
       "      <td>-1</td>\n",
       "      <td>-1</td>\n",
       "      <td>-1</td>\n",
       "      <td>-1</td>\n",
       "      <td>-1</td>\n",
       "      <td>-1</td>\n",
       "      <td>-1</td>\n",
       "      <td>-1</td>\n",
       "      <td>-1</td>\n",
       "      <td>-1</td>\n",
       "    </tr>\n",
       "    <tr>\n",
       "      <th>4</th>\n",
       "      <td>5</td>\n",
       "      <td>1136071269</td>\n",
       "      <td>202516</td>\n",
       "      <td>19520</td>\n",
       "      <td>1</td>\n",
       "      <td>18731</td>\n",
       "      <td>522268</td>\n",
       "      <td>1</td>\n",
       "      <td>259200</td>\n",
       "      <td>-1</td>\n",
       "      <td>...</td>\n",
       "      <td>-1</td>\n",
       "      <td>-1</td>\n",
       "      <td>-1</td>\n",
       "      <td>-1</td>\n",
       "      <td>-1</td>\n",
       "      <td>-1</td>\n",
       "      <td>-1</td>\n",
       "      <td>-1</td>\n",
       "      <td>-1</td>\n",
       "      <td>-1</td>\n",
       "    </tr>\n",
       "  </tbody>\n",
       "</table>\n",
       "<p>5 rows × 29 columns</p>\n",
       "</div>"
      ],
      "text/plain": [
       "   JobID  SubmitTime  WaitTime  RunTime   NProcs  AverageCPUTimeUsed  \\\n",
       "0      1  1136070024    203761    138467       1              138371   \n",
       "1      2  1136070690         0        11       1                   4   \n",
       "2      3  1136071207       117    201203       1                   0   \n",
       "3      4  1136071267      4406    196985       1                   0   \n",
       "4      5  1136071269    202516     19520       1               18731   \n",
       "\n",
       "   Used Memory  ReqNProcs  ReqTime:   ReqMemory  ...  JobStructureParams  \\\n",
       "0        98652          1     259200         -1  ...                  -1   \n",
       "1        35848          1     259200         -1  ...                  -1   \n",
       "2            0          1     259200         -1  ...                  -1   \n",
       "3            0          1     259200         -1  ...                  -1   \n",
       "4       522268          1     259200         -1  ...                  -1   \n",
       "\n",
       "  UsedNetwork UsedLocalDiskSpace UsedResources ReqPlatform  ReqNetwork  \\\n",
       "0          -1                 -1            -1          -1          -1   \n",
       "1          -1                 -1            -1          -1          -1   \n",
       "2          -1                 -1            -1          -1          -1   \n",
       "3          -1                 -1            -1          -1          -1   \n",
       "4          -1                 -1            -1          -1          -1   \n",
       "\n",
       "  ReqLocalDiskSpace ReqResources  VOID  ProjectID  \n",
       "0                -1           -1    -1         -1  \n",
       "1                -1           -1    -1         -1  \n",
       "2                -1           -1    -1         -1  \n",
       "3                -1           -1    -1         -1  \n",
       "4                -1           -1    -1         -1  \n",
       "\n",
       "[5 rows x 29 columns]"
      ]
     },
     "execution_count": 2,
     "metadata": {},
     "output_type": "execute_result"
    }
   ],
   "source": [
    "df = pd.read_csv('/media/nsriad/Documents/UAH/Spring 25/OS-Lawrence/Project/Code/processes_datasets.csv')\n",
    "print(\"Shape:\", df.shape)\n",
    "df.head()"
   ]
  },
  {
   "cell_type": "code",
   "execution_count": 3,
   "id": "4b2b0d8f",
   "metadata": {},
   "outputs": [
    {
     "name": "stdout",
     "output_type": "stream",
     "text": [
      "Selected features and target: ['SubmitTime', 'UserID', 'Used Memory', 'ReqTime: ', 'ReqMemory', 'RunTime ']\n"
     ]
    },
    {
     "data": {
      "text/html": [
       "<div>\n",
       "<style scoped>\n",
       "    .dataframe tbody tr th:only-of-type {\n",
       "        vertical-align: middle;\n",
       "    }\n",
       "\n",
       "    .dataframe tbody tr th {\n",
       "        vertical-align: top;\n",
       "    }\n",
       "\n",
       "    .dataframe thead th {\n",
       "        text-align: right;\n",
       "    }\n",
       "</style>\n",
       "<table border=\"1\" class=\"dataframe\">\n",
       "  <thead>\n",
       "    <tr style=\"text-align: right;\">\n",
       "      <th></th>\n",
       "      <th>SubmitTime</th>\n",
       "      <th>UserID</th>\n",
       "      <th>Used Memory</th>\n",
       "      <th>ReqTime:</th>\n",
       "      <th>ReqMemory</th>\n",
       "      <th>RunTime</th>\n",
       "    </tr>\n",
       "  </thead>\n",
       "  <tbody>\n",
       "    <tr>\n",
       "      <th>0</th>\n",
       "      <td>1136070024</td>\n",
       "      <td>U2004S1</td>\n",
       "      <td>98652</td>\n",
       "      <td>259200</td>\n",
       "      <td>-1</td>\n",
       "      <td>138467</td>\n",
       "    </tr>\n",
       "    <tr>\n",
       "      <th>1</th>\n",
       "      <td>1136070690</td>\n",
       "      <td>U1023S0</td>\n",
       "      <td>35848</td>\n",
       "      <td>259200</td>\n",
       "      <td>-1</td>\n",
       "      <td>11</td>\n",
       "    </tr>\n",
       "    <tr>\n",
       "      <th>2</th>\n",
       "      <td>1136071207</td>\n",
       "      <td>U2035S1</td>\n",
       "      <td>0</td>\n",
       "      <td>259200</td>\n",
       "      <td>-1</td>\n",
       "      <td>201203</td>\n",
       "    </tr>\n",
       "    <tr>\n",
       "      <th>3</th>\n",
       "      <td>1136071267</td>\n",
       "      <td>U2035S1</td>\n",
       "      <td>0</td>\n",
       "      <td>259200</td>\n",
       "      <td>-1</td>\n",
       "      <td>196985</td>\n",
       "    </tr>\n",
       "    <tr>\n",
       "      <th>4</th>\n",
       "      <td>1136071269</td>\n",
       "      <td>U2035S1</td>\n",
       "      <td>522268</td>\n",
       "      <td>259200</td>\n",
       "      <td>-1</td>\n",
       "      <td>19520</td>\n",
       "    </tr>\n",
       "  </tbody>\n",
       "</table>\n",
       "</div>"
      ],
      "text/plain": [
       "   SubmitTime   UserID  Used Memory  ReqTime:   ReqMemory  RunTime \n",
       "0  1136070024  U2004S1        98652     259200         -1    138467\n",
       "1  1136070690  U1023S0        35848     259200         -1        11\n",
       "2  1136071207  U2035S1            0     259200         -1    201203\n",
       "3  1136071267  U2035S1            0     259200         -1    196985\n",
       "4  1136071269  U2035S1       522268     259200         -1     19520"
      ]
     },
     "execution_count": 3,
     "metadata": {},
     "output_type": "execute_result"
    }
   ],
   "source": [
    "selected_columns = ['SubmitTime', 'UserID', 'Used Memory', 'ReqTime: ', 'ReqMemory', 'RunTime ']\n",
    "df_filtered = df[selected_columns].copy()\n",
    "#df_filtered = df_filtered[df_filtered['RunTime '] > 0]  # remove rows with 0 or invalid target\n",
    "print(\"Selected features and target:\", df_filtered.columns.tolist())\n",
    "df_filtered.head()"
   ]
  },
  {
   "cell_type": "code",
   "execution_count": 4,
   "id": "23d6fa5d",
   "metadata": {},
   "outputs": [],
   "source": [
    "le = LabelEncoder()\n",
    "df_filtered['UserID'] = le.fit_transform(df_filtered['UserID'])"
   ]
  },
  {
   "cell_type": "code",
   "execution_count": 5,
   "metadata": {
    "colab": {
     "base_uri": "https://localhost:8080/"
    },
    "id": "FEnsuvxxFKt3",
    "outputId": "97589415-d6f7-4750-91a2-f86883db34b9"
   },
   "outputs": [
    {
     "data": {
      "text/plain": [
       "(404176, 6)"
      ]
     },
     "execution_count": 5,
     "metadata": {},
     "output_type": "execute_result"
    }
   ],
   "source": [
    "df_filtered.shape"
   ]
  },
  {
   "cell_type": "code",
   "execution_count": 6,
   "metadata": {
    "colab": {
     "base_uri": "https://localhost:8080/"
    },
    "id": "OYGtRIsjFUgt",
    "outputId": "0e1269f6-b559-4e17-8ee0-ccf792cf7e59"
   },
   "outputs": [
    {
     "data": {
      "text/plain": [
       "Index(['SubmitTime', 'UserID', 'Used Memory', 'ReqTime: ', 'ReqMemory',\n",
       "       'RunTime '],\n",
       "      dtype='object')"
      ]
     },
     "execution_count": 6,
     "metadata": {},
     "output_type": "execute_result"
    }
   ],
   "source": [
    "df_filtered.columns"
   ]
  },
  {
   "cell_type": "code",
   "execution_count": 7,
   "metadata": {
    "colab": {
     "base_uri": "https://localhost:8080/"
    },
    "id": "TXuYiG1jTPuE",
    "outputId": "1bfad668-ad2c-4adb-aa23-242de06b1382"
   },
   "outputs": [
    {
     "name": "stdout",
     "output_type": "stream",
     "text": [
      "Shape: (5000, 6)\n"
     ]
    }
   ],
   "source": [
    "# using first 5000 datatpoints\n",
    "df_filtered = df_filtered.head(5000)\n",
    "print(\"Shape:\", df_filtered.shape)"
   ]
  },
  {
   "cell_type": "code",
   "execution_count": 8,
   "metadata": {
    "colab": {
     "base_uri": "https://localhost:8080/"
    },
    "id": "PWd62Dlithja",
    "outputId": "72d9aa7c-4ce0-4206-b2a5-59f53e32af6d"
   },
   "outputs": [
    {
     "name": "stdout",
     "output_type": "stream",
     "text": [
      "Shape: (4340, 6)\n"
     ]
    }
   ],
   "source": [
    "# exclude process with no burst time i.e., -1\n",
    "df_filtered = df_filtered[df_filtered['RunTime '] != -1]\n",
    "print(\"Shape:\", df_filtered.shape)"
   ]
  },
  {
   "cell_type": "markdown",
   "metadata": {
    "id": "H8OA1nW-R0uq"
   },
   "source": [
    "## **1.5 Split dataset**"
   ]
  },
  {
   "cell_type": "code",
   "execution_count": 9,
   "metadata": {
    "id": "seuwYv9yR7Sd"
   },
   "outputs": [],
   "source": [
    "# Target\n",
    "y = df_filtered['RunTime ']\n",
    "\n",
    "# Features\n",
    "X = df_filtered.drop(columns=['RunTime '])\n",
    "\n",
    "# Split\n",
    "X_train, X_test, y_train, y_test = train_test_split(X, y, test_size=0.2, random_state=42)"
   ]
  },
  {
   "cell_type": "code",
   "execution_count": 10,
   "metadata": {
    "colab": {
     "base_uri": "https://localhost:8080/"
    },
    "id": "IAIWprAiTleS",
    "outputId": "2f301c63-f330-4e88-8ae9-7574bdd471bd"
   },
   "outputs": [
    {
     "name": "stdout",
     "output_type": "stream",
     "text": [
      "X_train shape: (3472, 5)\n",
      "y_train shape: (3472,)\n",
      "X_test shape: (868, 5)\n",
      "y_test shape: (868,)\n"
     ]
    }
   ],
   "source": [
    "print(\"X_train shape:\", X_train.shape)\n",
    "print(\"y_train shape:\", y_train.shape)\n",
    "print(\"X_test shape:\", X_test.shape)\n",
    "print(\"y_test shape:\", y_test.shape)"
   ]
  },
  {
   "cell_type": "markdown",
   "metadata": {
    "id": "EW39CRyPi2zr"
   },
   "source": [
    "## **1.6: Normalize data**"
   ]
  },
  {
   "cell_type": "code",
   "execution_count": 11,
   "metadata": {
    "id": "1gYnqsapi7oc"
   },
   "outputs": [],
   "source": [
    "from sklearn.preprocessing import MinMaxScaler\n",
    "\n",
    "# Normalize minmax\n",
    "scaler_X = MinMaxScaler()\n",
    "X_train = scaler_X.fit_transform(X_train)\n",
    "X_test = scaler_X.transform(X_test)"
   ]
  },
  {
   "cell_type": "markdown",
   "metadata": {
    "id": "GOPJ7o06MF8C"
   },
   "source": [
    "# **2. Train MLP Regressor on Filtered Data**"
   ]
  },
  {
   "cell_type": "markdown",
   "metadata": {
    "id": "WVAIVNcKMNj7"
   },
   "source": [
    "## **2.1: Define Dataset and DataLoaders**"
   ]
  },
  {
   "cell_type": "code",
   "execution_count": 12,
   "metadata": {
    "id": "rxHbUWGtMJEG"
   },
   "outputs": [],
   "source": [
    "import torch\n",
    "from torch.utils.data import Dataset, DataLoader\n",
    "\n",
    "# Custom dataset class\n",
    "class ProcessDataset(Dataset):\n",
    "    def __init__(self, X, y):\n",
    "        self.X = torch.tensor(X, dtype=torch.float32)\n",
    "        self.y = torch.tensor(y.to_numpy(), dtype=torch.float32).view(-1, 1)\n",
    "\n",
    "    def __len__(self):\n",
    "        return len(self.X)\n",
    "\n",
    "    def __getitem__(self, idx):\n",
    "        return self.X[idx], self.y[idx]\n",
    "\n",
    "# Create datasets and loaders\n",
    "train_ds = ProcessDataset(X_train, y_train)\n",
    "test_ds = ProcessDataset(X_test, y_test)\n",
    "\n",
    "train_loader = DataLoader(train_ds, batch_size=64, shuffle=True)\n",
    "test_loader = DataLoader(test_ds, batch_size=64)"
   ]
  },
  {
   "cell_type": "markdown",
   "metadata": {
    "id": "Mbpmds9shHk7"
   },
   "source": [
    "## **2.2: Define the MLP Regressor in PyTorch**"
   ]
  },
  {
   "cell_type": "code",
   "execution_count": 13,
   "metadata": {
    "id": "QLhcx9P7hN3F"
   },
   "outputs": [],
   "source": [
    "class MLPRegressor(nn.Module):\n",
    "    def __init__(self, input_size):\n",
    "        super(MLPRegressor, self).__init__()\n",
    "        self.model = nn.Sequential(\n",
    "            nn.Linear(input_size, 128),\n",
    "            nn.ReLU(),\n",
    "            nn.Linear(128, 64),\n",
    "            nn.ReLU(),\n",
    "            nn.Linear(64, 32),\n",
    "            nn.ReLU(),\n",
    "            nn.Linear(32, 16),\n",
    "            nn.ReLU(),\n",
    "            nn.Linear(16, 1),\n",
    "            nn.ReLU()\n",
    "        )\n",
    "\n",
    "    def forward(self, x):\n",
    "        return self.model(x)"
   ]
  },
  {
   "cell_type": "markdown",
   "metadata": {
    "id": "r3CiiRiBhRVZ"
   },
   "source": [
    "## **2.3: Training Function**"
   ]
  },
  {
   "cell_type": "code",
   "execution_count": 14,
   "metadata": {
    "id": "5n7hj3MUhQEe"
   },
   "outputs": [],
   "source": [
    "def train_model(model, dataloader, optimizer, criterion, device, num_epochs=50):\n",
    "    model.train()\n",
    "    epoch_losses = []\n",
    "\n",
    "    for epoch in range(num_epochs):\n",
    "        running_loss = 0.0\n",
    "        for X_batch, y_batch in dataloader:\n",
    "            X_batch, y_batch = X_batch.to(device), y_batch.to(device)\n",
    "            optimizer.zero_grad()\n",
    "            y_pred = model(X_batch)\n",
    "            loss = criterion(y_pred, y_batch)\n",
    "            loss.backward()\n",
    "            optimizer.step()\n",
    "            running_loss += loss.item()\n",
    "\n",
    "        avg_loss = running_loss / len(dataloader)\n",
    "        epoch_losses.append(avg_loss)\n",
    "        if (epoch + 1) % 100 == 0:\n",
    "            print(f\"Epoch {epoch+1}/{num_epochs}, Loss: {avg_loss:.4f}\")\n",
    "\n",
    "    return epoch_losses"
   ]
  },
  {
   "cell_type": "markdown",
   "metadata": {
    "id": "yAT68sixhYJY"
   },
   "source": [
    "## **2.4: Evaluation Metrics**"
   ]
  },
  {
   "cell_type": "code",
   "execution_count": 15,
   "metadata": {
    "id": "vnfj-9trhVu9"
   },
   "outputs": [],
   "source": [
    "def evaluate_model(model, dataloader, y_true, device):\n",
    "    model.eval()\n",
    "    preds = []\n",
    "\n",
    "    with torch.no_grad():\n",
    "        for X_batch, _ in dataloader:\n",
    "            X_batch = X_batch.to(device)\n",
    "            y_pred = model(X_batch)\n",
    "            preds.append(y_pred.cpu().numpy())\n",
    "\n",
    "    y_pred = np.vstack(preds).flatten()\n",
    "    y_true = y_true.values.flatten()\n",
    "\n",
    "    mae = mean_absolute_error(y_true, y_pred)\n",
    "    r2 = r2_score(y_true, y_pred)\n",
    "    cc = np.corrcoef(y_true, y_pred)[0, 1]\n",
    "    rae = np.sum(np.abs(y_true - y_pred)) / np.sum(np.abs(y_true - np.mean(y_true)))\n",
    "\n",
    "    return {\n",
    "        'MAE': mae,\n",
    "        'R2': r2,\n",
    "        'CC': cc,\n",
    "        'RAE (%)': rae * 100\n",
    "    }"
   ]
  },
  {
   "cell_type": "markdown",
   "metadata": {
    "id": "qaf_fyhBhh4_"
   },
   "source": [
    "## **2.5: Train MLP Model**"
   ]
  },
  {
   "cell_type": "code",
   "execution_count": 21,
   "metadata": {
    "colab": {
     "base_uri": "https://localhost:8080/"
    },
    "id": "5AnTYncDhdaT",
    "outputId": "98abf9dd-8ae3-488e-81f6-3c0e3039a698"
   },
   "outputs": [
    {
     "name": "stdout",
     "output_type": "stream",
     "text": [
      "Using device: cpu\n",
      "Epoch 100/15000, Loss: 1307875301.2364\n",
      "Epoch 200/15000, Loss: 1207253707.6364\n",
      "Epoch 300/15000, Loss: 1148105328.8727\n",
      "Epoch 400/15000, Loss: 1089467673.0182\n",
      "Epoch 500/15000, Loss: 1074001227.6364\n",
      "Epoch 600/15000, Loss: 1057865808.2909\n",
      "Epoch 700/15000, Loss: 1047733980.5091\n",
      "Epoch 800/15000, Loss: 1029041094.1091\n",
      "Epoch 900/15000, Loss: 1034398583.2727\n",
      "Epoch 1000/15000, Loss: 1030387894.6909\n",
      "Epoch 1100/15000, Loss: 1006789971.7818\n",
      "Epoch 1200/15000, Loss: 996475474.6182\n",
      "Epoch 1300/15000, Loss: 971914112.0000\n",
      "Epoch 1400/15000, Loss: 949720176.2909\n",
      "Epoch 1500/15000, Loss: 918142280.7273\n",
      "Epoch 1600/15000, Loss: 880890027.6364\n",
      "Epoch 1700/15000, Loss: 823174134.1091\n",
      "Epoch 1800/15000, Loss: 755092571.9273\n",
      "Epoch 1900/15000, Loss: 674816832.0000\n",
      "Epoch 2000/15000, Loss: 610246480.0000\n",
      "Epoch 2100/15000, Loss: 533815600.5818\n",
      "Epoch 2200/15000, Loss: 495961355.9273\n",
      "Epoch 2300/15000, Loss: 452369104.5818\n",
      "Epoch 2400/15000, Loss: 425388922.9091\n",
      "Epoch 2500/15000, Loss: 415939228.9455\n",
      "Epoch 2600/15000, Loss: 390948021.8182\n",
      "Epoch 2700/15000, Loss: 337840432.9455\n",
      "Epoch 2800/15000, Loss: 309467085.6727\n",
      "Epoch 2900/15000, Loss: 287260428.2545\n",
      "Epoch 3000/15000, Loss: 269916736.9455\n",
      "Epoch 3100/15000, Loss: 253503498.2909\n",
      "Epoch 3200/15000, Loss: 239171835.8545\n",
      "Epoch 3300/15000, Loss: 229115512.6545\n",
      "Epoch 3400/15000, Loss: 220499473.1636\n",
      "Epoch 3500/15000, Loss: 211458652.5182\n",
      "Epoch 3600/15000, Loss: 207431017.7636\n",
      "Epoch 3700/15000, Loss: 204251808.7909\n",
      "Epoch 3800/15000, Loss: 202622479.0455\n",
      "Epoch 3900/15000, Loss: 199496311.8909\n",
      "Epoch 4000/15000, Loss: 193293809.6909\n",
      "Epoch 4100/15000, Loss: 190370599.1182\n",
      "Epoch 4200/15000, Loss: 189824737.6909\n",
      "Epoch 4300/15000, Loss: 190032496.0545\n",
      "Epoch 4400/15000, Loss: 186426057.9818\n",
      "Epoch 4500/15000, Loss: 184947114.3091\n",
      "Epoch 4600/15000, Loss: 173807807.3273\n",
      "Epoch 4700/15000, Loss: 167519879.7455\n",
      "Epoch 4800/15000, Loss: 175178483.4273\n",
      "Epoch 4900/15000, Loss: 162637338.1500\n",
      "Epoch 5000/15000, Loss: 161705903.1182\n",
      "Epoch 5100/15000, Loss: 159813299.1182\n",
      "Epoch 5200/15000, Loss: 158267754.9818\n",
      "Epoch 5300/15000, Loss: 156640888.9955\n",
      "Epoch 5400/15000, Loss: 156433255.9909\n",
      "Epoch 5500/15000, Loss: 157456000.9182\n",
      "Epoch 5600/15000, Loss: 154327244.5273\n",
      "Epoch 5700/15000, Loss: 156188039.9455\n",
      "Epoch 5800/15000, Loss: 154282318.6545\n",
      "Epoch 5900/15000, Loss: 153781188.3091\n",
      "Epoch 6000/15000, Loss: 151911028.7182\n",
      "Epoch 6100/15000, Loss: 155592441.5364\n",
      "Epoch 6200/15000, Loss: 168371913.5727\n",
      "Epoch 6300/15000, Loss: 156902921.7818\n",
      "Epoch 6400/15000, Loss: 150936296.0864\n",
      "Epoch 6500/15000, Loss: 149931041.3091\n",
      "Epoch 6600/15000, Loss: 150155847.7091\n",
      "Epoch 6700/15000, Loss: 149335691.2545\n",
      "Epoch 6800/15000, Loss: 148522108.3932\n",
      "Epoch 6900/15000, Loss: 148602643.6545\n",
      "Epoch 7000/15000, Loss: 150735638.8273\n",
      "Epoch 7100/15000, Loss: 147682350.8273\n",
      "Epoch 7200/15000, Loss: 146160408.2909\n",
      "Epoch 7300/15000, Loss: 146226550.4364\n",
      "Epoch 7400/15000, Loss: 144515117.0273\n",
      "Epoch 7500/15000, Loss: 144460073.5455\n",
      "Epoch 7600/15000, Loss: 144457770.6000\n",
      "Epoch 7700/15000, Loss: 143203200.3750\n",
      "Epoch 7800/15000, Loss: 143560509.7455\n",
      "Epoch 7900/15000, Loss: 144286457.4182\n",
      "Epoch 8000/15000, Loss: 142538966.8091\n",
      "Epoch 8100/15000, Loss: 143397800.3364\n",
      "Epoch 8200/15000, Loss: 141873481.3955\n",
      "Epoch 8300/15000, Loss: 141255720.5545\n",
      "Epoch 8400/15000, Loss: 141125041.0909\n",
      "Epoch 8500/15000, Loss: 142237789.5909\n",
      "Epoch 8600/15000, Loss: 142150166.2091\n",
      "Epoch 8700/15000, Loss: 152785732.9818\n",
      "Epoch 8800/15000, Loss: 139711602.9273\n",
      "Epoch 8900/15000, Loss: 140436761.0727\n",
      "Epoch 9000/15000, Loss: 138643288.8182\n",
      "Epoch 9100/15000, Loss: 139340655.3909\n",
      "Epoch 9200/15000, Loss: 137712146.0091\n",
      "Epoch 9300/15000, Loss: 138374365.6886\n",
      "Epoch 9400/15000, Loss: 138180689.0455\n",
      "Epoch 9500/15000, Loss: 137107746.9364\n",
      "Epoch 9600/15000, Loss: 136386468.2909\n",
      "Epoch 9700/15000, Loss: 163243414.2455\n",
      "Epoch 9800/15000, Loss: 135897017.7318\n",
      "Epoch 9900/15000, Loss: 135362971.6864\n",
      "Epoch 10000/15000, Loss: 136713788.3182\n",
      "Epoch 10100/15000, Loss: 138789387.9591\n",
      "Epoch 10200/15000, Loss: 134577269.7091\n",
      "Epoch 10300/15000, Loss: 136362605.3636\n",
      "Epoch 10400/15000, Loss: 135813463.6409\n",
      "Epoch 10500/15000, Loss: 134946988.0909\n",
      "Epoch 10600/15000, Loss: 134694466.0159\n",
      "Epoch 10700/15000, Loss: 134268827.0545\n",
      "Epoch 10800/15000, Loss: 134036615.4182\n",
      "Epoch 10900/15000, Loss: 135014994.9909\n",
      "Epoch 11000/15000, Loss: 133412298.2182\n",
      "Epoch 11100/15000, Loss: 133107212.2636\n",
      "Epoch 11200/15000, Loss: 132608581.6341\n",
      "Epoch 11300/15000, Loss: 133544003.8568\n",
      "Epoch 11400/15000, Loss: 131700070.8364\n",
      "Epoch 11500/15000, Loss: 132670097.5727\n",
      "Epoch 11600/15000, Loss: 133149739.9727\n",
      "Epoch 11700/15000, Loss: 132013731.8091\n",
      "Epoch 11800/15000, Loss: 131668642.8773\n",
      "Epoch 11900/15000, Loss: 131341745.9545\n",
      "Epoch 12000/15000, Loss: 130299736.4818\n",
      "Epoch 12100/15000, Loss: 130391705.8545\n",
      "Epoch 12200/15000, Loss: 130004830.6818\n",
      "Epoch 12300/15000, Loss: 128872563.7545\n",
      "Epoch 12400/15000, Loss: 129284003.5909\n",
      "Epoch 12500/15000, Loss: 139787517.0545\n",
      "Epoch 12600/15000, Loss: 129460764.5273\n",
      "Epoch 12700/15000, Loss: 128630252.8318\n",
      "Epoch 12800/15000, Loss: 128021128.3284\n",
      "Epoch 12900/15000, Loss: 129231079.4545\n",
      "Epoch 13000/15000, Loss: 129175924.2273\n",
      "Epoch 13100/15000, Loss: 127853472.5545\n",
      "Epoch 13200/15000, Loss: 137649066.4000\n",
      "Epoch 13300/15000, Loss: 128580534.4364\n",
      "Epoch 13400/15000, Loss: 126707373.7727\n",
      "Epoch 13500/15000, Loss: 126388292.6455\n",
      "Epoch 13600/15000, Loss: 137745007.5273\n",
      "Epoch 13700/15000, Loss: 126970587.1909\n",
      "Epoch 13800/15000, Loss: 125382323.5000\n",
      "Epoch 13900/15000, Loss: 128707891.4545\n",
      "Epoch 14000/15000, Loss: 125261741.9545\n",
      "Epoch 14100/15000, Loss: 125279612.7455\n",
      "Epoch 14200/15000, Loss: 125020614.5364\n",
      "Epoch 14300/15000, Loss: 124822582.8636\n",
      "Epoch 14400/15000, Loss: 125116515.6455\n",
      "Epoch 14500/15000, Loss: 125964045.3818\n",
      "Epoch 14600/15000, Loss: 125045501.6727\n",
      "Epoch 14700/15000, Loss: 133595481.3273\n",
      "Epoch 14800/15000, Loss: 124460697.2455\n",
      "Epoch 14900/15000, Loss: 124021119.2545\n",
      "Epoch 15000/15000, Loss: 124522007.5364\n"
     ]
    }
   ],
   "source": [
    "device = torch.device(\"cuda\" if torch.cuda.is_available() else \"cpu\")\n",
    "print(\"Using device:\", device)\n",
    "\n",
    "# number of epochs\n",
    "num_epochs = 15000\n",
    "\n",
    "# initialize model and optimizer\n",
    "model = MLPRegressor(input_size=X_train.shape[1]).to(device)\n",
    "optimizer = torch.optim.Adam(model.parameters(), lr=0.0001)\n",
    "criterion = nn.MSELoss()\n",
    "\n",
    "# Train and collect loss per epoch\n",
    "loss_history = train_model(model, train_loader, optimizer, criterion, device, num_epochs=num_epochs)\n",
    "torch.save(model.state_dict(), 'non_hist_mlp_burst_predictor.pth')"
   ]
  },
  {
   "cell_type": "code",
   "execution_count": 17,
   "metadata": {
    "id": "pPeV97Hbko1C"
   },
   "outputs": [],
   "source": [
    "import matplotlib.pyplot as plt\n",
    "plt.rcParams['font.family'] = 'serif'\n",
    "plt.rcParams['font.serif'] = ['Times New Roman'] + plt.rcParams['font.serif']\n",
    "\n",
    "def loss_plot(num_epochs, loss_history):\n",
    "    plt.figure(figsize=(10, 6))\n",
    "    plt.plot(range(1, num_epochs + 1), loss_history)\n",
    "    plt.title(\"Training Loss Curve (MLP)\")\n",
    "    plt.xlabel(\"Epoch\")\n",
    "    plt.ylabel(\"MSE Loss\")\n",
    "    plt.grid(True)\n",
    "    plt.show()"
   ]
  },
  {
   "cell_type": "code",
   "execution_count": 22,
   "metadata": {
    "colab": {
     "base_uri": "https://localhost:8080/",
     "height": 141
    },
    "id": "1ssAQ0OGtyYF",
    "outputId": "8bc728ee-024f-4a43-9265-a845c5f7b390"
   },
   "outputs": [
    {
     "data": {
      "image/png": "[encoded data removed]",
      "text/plain": [
       "<Figure size 1000x600 with 1 Axes>"
      ]
     },
     "metadata": {},
     "output_type": "display_data"
    }
   ],
   "source": [
    "loss_plot(num_epochs, loss_history)"
   ]
  },
  {
   "cell_type": "markdown",
   "metadata": {
    "id": "znKRgvq-nYsY"
   },
   "source": [
    "# **3. Model Evaluation and Prediction**"
   ]
  },
  {
   "cell_type": "markdown",
   "metadata": {
    "id": "b_uVumkBnj9q"
   },
   "source": [
    "## **3.1: Evaluation metrics**"
   ]
  },
  {
   "cell_type": "code",
   "execution_count": 23,
   "metadata": {
    "colab": {
     "base_uri": "https://localhost:8080/"
    },
    "id": "tPdY90_Ul_UO",
    "outputId": "00ee34eb-b916-4cf6-8932-37ab29b99eb7"
   },
   "outputs": [
    {
     "name": "stdout",
     "output_type": "stream",
     "text": [
      "Evaluation Metrics for MLP:\n",
      "MAE: 3720.2454\n",
      "R2: 0.8308\n",
      "CC: 0.9123\n",
      "RAE (%): 13.3774\n"
     ]
    }
   ],
   "source": [
    "# y_test must be a numpy array or torch tensor (already flattened)\n",
    "results = evaluate_model(model, test_loader, y_test, device)\n",
    "\n",
    "# Print results\n",
    "print(\"Evaluation Metrics for MLP:\")\n",
    "for k, v in results.items():\n",
    "    print(f\"{k}: {v:.4f}\")"
   ]
  },
  {
   "cell_type": "markdown",
   "metadata": {
    "id": "hetvEovunp2m"
   },
   "source": [
    "## **3.2: Prediction**"
   ]
  },
  {
   "cell_type": "code",
   "execution_count": 20,
   "metadata": {
    "id": "DWpAj0vNnsyV"
   },
   "outputs": [],
   "source": [
    "model.eval()\n",
    "predictions = []\n",
    "\n",
    "with torch.no_grad():\n",
    "    for X_batch, _ in test_loader:\n",
    "        X_batch = X_batch.to(device)\n",
    "        y_pred = model(X_batch)\n",
    "        predictions.append(y_pred.cpu().numpy())\n",
    "\n",
    "# Flatten into one array\n",
    "y_pred = np.vstack(predictions).flatten()"
   ]
  },
  {
   "cell_type": "code",
   "execution_count": 21,
   "metadata": {
    "id": "D077MfxDnvuf"
   },
   "outputs": [],
   "source": [
    "# Convert true y values to a flat array if not already\n",
    "y_true = y_test.values.flatten()"
   ]
  },
  {
   "cell_type": "code",
   "execution_count": 28,
   "metadata": {
    "colab": {
     "base_uri": "https://localhost:8080/",
     "height": 677
    },
    "id": "wCbSHxl6nxpd",
    "outputId": "5ba80b4c-276c-4861-9e81-7306485b0194"
   },
   "outputs": [
    {
     "data": {
      "text/html": [
       "<div>\n",
       "<style scoped>\n",
       "    .dataframe tbody tr th:only-of-type {\n",
       "        vertical-align: middle;\n",
       "    }\n",
       "\n",
       "    .dataframe tbody tr th {\n",
       "        vertical-align: top;\n",
       "    }\n",
       "\n",
       "    .dataframe thead th {\n",
       "        text-align: right;\n",
       "    }\n",
       "</style>\n",
       "<table border=\"1\" class=\"dataframe\">\n",
       "  <thead>\n",
       "    <tr style=\"text-align: right;\">\n",
       "      <th></th>\n",
       "      <th>Actual (RunTime)</th>\n",
       "      <th>Predicted (RunTime)</th>\n",
       "    </tr>\n",
       "  </thead>\n",
       "  <tbody>\n",
       "    <tr>\n",
       "      <th>0</th>\n",
       "      <td>94444</td>\n",
       "      <td>97144.070312</td>\n",
       "    </tr>\n",
       "    <tr>\n",
       "      <th>1</th>\n",
       "      <td>42802</td>\n",
       "      <td>41611.519531</td>\n",
       "    </tr>\n",
       "    <tr>\n",
       "      <th>2</th>\n",
       "      <td>96832</td>\n",
       "      <td>98091.609375</td>\n",
       "    </tr>\n",
       "    <tr>\n",
       "      <th>3</th>\n",
       "      <td>113</td>\n",
       "      <td>0.000000</td>\n",
       "    </tr>\n",
       "    <tr>\n",
       "      <th>4</th>\n",
       "      <td>28</td>\n",
       "      <td>0.000000</td>\n",
       "    </tr>\n",
       "    <tr>\n",
       "      <th>5</th>\n",
       "      <td>1722</td>\n",
       "      <td>1118.000000</td>\n",
       "    </tr>\n",
       "    <tr>\n",
       "      <th>6</th>\n",
       "      <td>12123</td>\n",
       "      <td>0.000000</td>\n",
       "    </tr>\n",
       "    <tr>\n",
       "      <th>7</th>\n",
       "      <td>66</td>\n",
       "      <td>0.000000</td>\n",
       "    </tr>\n",
       "    <tr>\n",
       "      <th>8</th>\n",
       "      <td>17</td>\n",
       "      <td>0.000000</td>\n",
       "    </tr>\n",
       "    <tr>\n",
       "      <th>9</th>\n",
       "      <td>94609</td>\n",
       "      <td>96566.703125</td>\n",
       "    </tr>\n",
       "    <tr>\n",
       "      <th>10</th>\n",
       "      <td>1850</td>\n",
       "      <td>0.000000</td>\n",
       "    </tr>\n",
       "    <tr>\n",
       "      <th>11</th>\n",
       "      <td>97126</td>\n",
       "      <td>95394.093750</td>\n",
       "    </tr>\n",
       "    <tr>\n",
       "      <th>12</th>\n",
       "      <td>21</td>\n",
       "      <td>0.000000</td>\n",
       "    </tr>\n",
       "    <tr>\n",
       "      <th>13</th>\n",
       "      <td>122</td>\n",
       "      <td>0.000000</td>\n",
       "    </tr>\n",
       "    <tr>\n",
       "      <th>14</th>\n",
       "      <td>141</td>\n",
       "      <td>0.000000</td>\n",
       "    </tr>\n",
       "    <tr>\n",
       "      <th>15</th>\n",
       "      <td>137250</td>\n",
       "      <td>126575.101562</td>\n",
       "    </tr>\n",
       "    <tr>\n",
       "      <th>16</th>\n",
       "      <td>176</td>\n",
       "      <td>0.000000</td>\n",
       "    </tr>\n",
       "    <tr>\n",
       "      <th>17</th>\n",
       "      <td>46</td>\n",
       "      <td>0.000000</td>\n",
       "    </tr>\n",
       "    <tr>\n",
       "      <th>18</th>\n",
       "      <td>50092</td>\n",
       "      <td>60647.328125</td>\n",
       "    </tr>\n",
       "    <tr>\n",
       "      <th>19</th>\n",
       "      <td>30</td>\n",
       "      <td>0.000000</td>\n",
       "    </tr>\n",
       "    <tr>\n",
       "      <th>20</th>\n",
       "      <td>40</td>\n",
       "      <td>0.000000</td>\n",
       "    </tr>\n",
       "    <tr>\n",
       "      <th>21</th>\n",
       "      <td>16</td>\n",
       "      <td>0.000000</td>\n",
       "    </tr>\n",
       "    <tr>\n",
       "      <th>22</th>\n",
       "      <td>29</td>\n",
       "      <td>0.000000</td>\n",
       "    </tr>\n",
       "    <tr>\n",
       "      <th>23</th>\n",
       "      <td>2032</td>\n",
       "      <td>0.000000</td>\n",
       "    </tr>\n",
       "    <tr>\n",
       "      <th>24</th>\n",
       "      <td>1</td>\n",
       "      <td>0.000000</td>\n",
       "    </tr>\n",
       "    <tr>\n",
       "      <th>25</th>\n",
       "      <td>32</td>\n",
       "      <td>0.000000</td>\n",
       "    </tr>\n",
       "    <tr>\n",
       "      <th>26</th>\n",
       "      <td>613</td>\n",
       "      <td>0.000000</td>\n",
       "    </tr>\n",
       "    <tr>\n",
       "      <th>27</th>\n",
       "      <td>93985</td>\n",
       "      <td>97147.601562</td>\n",
       "    </tr>\n",
       "    <tr>\n",
       "      <th>28</th>\n",
       "      <td>95749</td>\n",
       "      <td>95375.773438</td>\n",
       "    </tr>\n",
       "    <tr>\n",
       "      <th>29</th>\n",
       "      <td>96077</td>\n",
       "      <td>98098.460938</td>\n",
       "    </tr>\n",
       "    <tr>\n",
       "      <th>30</th>\n",
       "      <td>1851</td>\n",
       "      <td>0.000000</td>\n",
       "    </tr>\n",
       "    <tr>\n",
       "      <th>31</th>\n",
       "      <td>90</td>\n",
       "      <td>0.000000</td>\n",
       "    </tr>\n",
       "    <tr>\n",
       "      <th>32</th>\n",
       "      <td>10</td>\n",
       "      <td>0.000000</td>\n",
       "    </tr>\n",
       "    <tr>\n",
       "      <th>33</th>\n",
       "      <td>4</td>\n",
       "      <td>0.000000</td>\n",
       "    </tr>\n",
       "    <tr>\n",
       "      <th>34</th>\n",
       "      <td>37629</td>\n",
       "      <td>42937.019531</td>\n",
       "    </tr>\n",
       "    <tr>\n",
       "      <th>35</th>\n",
       "      <td>1851</td>\n",
       "      <td>0.000000</td>\n",
       "    </tr>\n",
       "    <tr>\n",
       "      <th>36</th>\n",
       "      <td>929</td>\n",
       "      <td>0.000000</td>\n",
       "    </tr>\n",
       "    <tr>\n",
       "      <th>37</th>\n",
       "      <td>311</td>\n",
       "      <td>0.000000</td>\n",
       "    </tr>\n",
       "    <tr>\n",
       "      <th>38</th>\n",
       "      <td>113</td>\n",
       "      <td>0.000000</td>\n",
       "    </tr>\n",
       "    <tr>\n",
       "      <th>39</th>\n",
       "      <td>37</td>\n",
       "      <td>0.000000</td>\n",
       "    </tr>\n",
       "    <tr>\n",
       "      <th>40</th>\n",
       "      <td>21</td>\n",
       "      <td>0.000000</td>\n",
       "    </tr>\n",
       "    <tr>\n",
       "      <th>41</th>\n",
       "      <td>1981</td>\n",
       "      <td>0.000000</td>\n",
       "    </tr>\n",
       "    <tr>\n",
       "      <th>42</th>\n",
       "      <td>67</td>\n",
       "      <td>0.000000</td>\n",
       "    </tr>\n",
       "    <tr>\n",
       "      <th>43</th>\n",
       "      <td>1956</td>\n",
       "      <td>0.000000</td>\n",
       "    </tr>\n",
       "    <tr>\n",
       "      <th>44</th>\n",
       "      <td>16</td>\n",
       "      <td>0.000000</td>\n",
       "    </tr>\n",
       "    <tr>\n",
       "      <th>45</th>\n",
       "      <td>1853</td>\n",
       "      <td>0.000000</td>\n",
       "    </tr>\n",
       "    <tr>\n",
       "      <th>46</th>\n",
       "      <td>427</td>\n",
       "      <td>0.000000</td>\n",
       "    </tr>\n",
       "    <tr>\n",
       "      <th>47</th>\n",
       "      <td>925</td>\n",
       "      <td>0.000000</td>\n",
       "    </tr>\n",
       "    <tr>\n",
       "      <th>48</th>\n",
       "      <td>1325</td>\n",
       "      <td>0.000000</td>\n",
       "    </tr>\n",
       "    <tr>\n",
       "      <th>49</th>\n",
       "      <td>8469</td>\n",
       "      <td>9468.219727</td>\n",
       "    </tr>\n",
       "  </tbody>\n",
       "</table>\n",
       "</div>"
      ],
      "text/plain": [
       "    Actual (RunTime)  Predicted (RunTime)\n",
       "0              94444         97144.070312\n",
       "1              42802         41611.519531\n",
       "2              96832         98091.609375\n",
       "3                113             0.000000\n",
       "4                 28             0.000000\n",
       "5               1722          1118.000000\n",
       "6              12123             0.000000\n",
       "7                 66             0.000000\n",
       "8                 17             0.000000\n",
       "9              94609         96566.703125\n",
       "10              1850             0.000000\n",
       "11             97126         95394.093750\n",
       "12                21             0.000000\n",
       "13               122             0.000000\n",
       "14               141             0.000000\n",
       "15            137250        126575.101562\n",
       "16               176             0.000000\n",
       "17                46             0.000000\n",
       "18             50092         60647.328125\n",
       "19                30             0.000000\n",
       "20                40             0.000000\n",
       "21                16             0.000000\n",
       "22                29             0.000000\n",
       "23              2032             0.000000\n",
       "24                 1             0.000000\n",
       "25                32             0.000000\n",
       "26               613             0.000000\n",
       "27             93985         97147.601562\n",
       "28             95749         95375.773438\n",
       "29             96077         98098.460938\n",
       "30              1851             0.000000\n",
       "31                90             0.000000\n",
       "32                10             0.000000\n",
       "33                 4             0.000000\n",
       "34             37629         42937.019531\n",
       "35              1851             0.000000\n",
       "36               929             0.000000\n",
       "37               311             0.000000\n",
       "38               113             0.000000\n",
       "39                37             0.000000\n",
       "40                21             0.000000\n",
       "41              1981             0.000000\n",
       "42                67             0.000000\n",
       "43              1956             0.000000\n",
       "44                16             0.000000\n",
       "45              1853             0.000000\n",
       "46               427             0.000000\n",
       "47               925             0.000000\n",
       "48              1325             0.000000\n",
       "49              8469          9468.219727"
      ]
     },
     "execution_count": 28,
     "metadata": {},
     "output_type": "execute_result"
    }
   ],
   "source": [
    "# Show a few examples\n",
    "import pandas as pd\n",
    "start = 100\n",
    "end = 150\n",
    "comparison_df = pd.DataFrame({\n",
    "    \"Actual (RunTime)\": y_true[start:end],\n",
    "    \"Predicted (RunTime)\": y_pred[start:end]\n",
    "})\n",
    "\n",
    "# Round for cleaner display\n",
    "comparison_df = comparison_df.round(2)\n",
    "\n",
    "# Display as table\n",
    "comparison_df"
   ]
  },
  {
   "cell_type": "code",
   "execution_count": 23,
   "metadata": {
    "id": "LnRcUBEj8Dpy"
   },
   "outputs": [],
   "source": [
    "def plot_mlp_predictions(model, dataloader, y_test_raw, device, title=\"MLP\"):\n",
    "    model.eval()\n",
    "    preds = []\n",
    "\n",
    "    with torch.no_grad():\n",
    "        for X_batch, _ in dataloader:\n",
    "            X_batch = X_batch.to(device)\n",
    "            y_pred = model(X_batch)\n",
    "            preds.append(y_pred.cpu().numpy())\n",
    "\n",
    "    y_pred = np.vstack(preds).flatten()\n",
    "    y_true = y_test_raw.values.flatten()\n",
    "\n",
    "    # Plot\n",
    "    plt.figure(figsize=(8, 6))\n",
    "    plt.scatter(y_true, y_pred, alpha=0.5)\n",
    "    plt.plot([y_true.min(), y_true.max()], [y_true.min(), y_true.max()],\n",
    "             'r--', label='Perfect Prediction')\n",
    "    plt.xlabel(\"Actual RunTime\")\n",
    "    plt.ylabel(\"Predicted RunTime\")\n",
    "    plt.title(f\"{title} - Actual vs Predicted\")\n",
    "    plt.legend()\n",
    "    plt.grid(True)\n",
    "    plt.show()\n"
   ]
  },
  {
   "cell_type": "code",
   "execution_count": 24,
   "metadata": {
    "colab": {
     "base_uri": "https://localhost:8080/",
     "height": 563
    },
    "id": "wfksUY9b8Kke",
    "outputId": "0caf5ed0-1adc-4f07-e64e-50ca23b22b84"
   },
   "outputs": [
    {
     "data": {
      "image/png": "[encoded data removed]",
      "text/plain": [
       "<Figure size 800x600 with 1 Axes>"
      ]
     },
     "metadata": {},
     "output_type": "display_data"
    }
   ],
   "source": [
    "plot_mlp_predictions(model, test_loader, y_test, device, title=\"MLP Regressor\")"
   ]
  }
 ],
 "metadata": {
  "colab": {
   "provenance": []
  },
  "kernelspec": {
   "display_name": "base",
   "language": "python",
   "name": "python3"
  },
  "language_info": {
   "codemirror_mode": {
    "name": "ipython",
    "version": 3
   },
   "file_extension": ".py",
   "mimetype": "text/x-python",
   "name": "python",
   "nbconvert_exporter": "python",
   "pygments_lexer": "ipython3",
   "version": "3.12.2"
  }
 },
 "nbformat": 4,
 "nbformat_minor": 0
}
