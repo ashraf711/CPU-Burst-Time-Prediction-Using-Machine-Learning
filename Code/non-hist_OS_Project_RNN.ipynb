{
 "cells": [
  {
   "cell_type": "markdown",
   "metadata": {
    "id": "B0QLmjMWEdKO"
   },
   "source": [
    "# **1. Load and Explore the Dataset**"
   ]
  },
  {
   "cell_type": "markdown",
   "metadata": {
    "id": "RsBBIdPaEuvU"
   },
   "source": [
    "## **1.1 Load Required Libraries**"
   ]
  },
  {
   "cell_type": "code",
   "execution_count": 1,
   "metadata": {},
   "outputs": [],
   "source": [
    "!pip install pandas matplotlib seaborn scikit-learn torch -q"
   ]
  },
  {
   "cell_type": "code",
   "execution_count": 57,
   "metadata": {
    "id": "q8h4L53y5uUV"
   },
   "outputs": [],
   "source": [
    "import pandas as pd\n",
    "import numpy as np\n",
    "import matplotlib.pyplot as plt\n",
    "import seaborn as sns\n",
    "from sklearn.model_selection import train_test_split\n",
    "from sklearn.preprocessing import LabelEncoder\n",
    "from sklearn.metrics import mean_absolute_error, r2_score\n",
    "import torch\n",
    "import torch.nn as nn\n",
    "from torch.utils.data import Dataset, DataLoader"
   ]
  },
  {
   "cell_type": "markdown",
   "metadata": {
    "id": "mZ9zrRboEyNc"
   },
   "source": [
    "## **1.2: Load First 5000 Rows of Dataset**"
   ]
  },
  {
   "cell_type": "code",
   "execution_count": 58,
   "metadata": {
    "colab": {
     "base_uri": "https://localhost:8080/",
     "height": 290
    },
    "id": "PUhAVrHVErrO",
    "outputId": "a18929ca-39e9-4e8c-d3b5-5d70e62d4c1e"
   },
   "outputs": [
    {
     "name": "stdout",
     "output_type": "stream",
     "text": [
      "Shape: (404176, 29)\n"
     ]
    },
    {
     "data": {
      "text/html": [
       "<div>\n",
       "<style scoped>\n",
       "    .dataframe tbody tr th:only-of-type {\n",
       "        vertical-align: middle;\n",
       "    }\n",
       "\n",
       "    .dataframe tbody tr th {\n",
       "        vertical-align: top;\n",
       "    }\n",
       "\n",
       "    .dataframe thead th {\n",
       "        text-align: right;\n",
       "    }\n",
       "</style>\n",
       "<table border=\"1\" class=\"dataframe\">\n",
       "  <thead>\n",
       "    <tr style=\"text-align: right;\">\n",
       "      <th></th>\n",
       "      <th>JobID</th>\n",
       "      <th>SubmitTime</th>\n",
       "      <th>WaitTime</th>\n",
       "      <th>RunTime</th>\n",
       "      <th>NProcs</th>\n",
       "      <th>AverageCPUTimeUsed</th>\n",
       "      <th>Used Memory</th>\n",
       "      <th>ReqNProcs</th>\n",
       "      <th>ReqTime:</th>\n",
       "      <th>ReqMemory</th>\n",
       "      <th>...</th>\n",
       "      <th>JobStructureParams</th>\n",
       "      <th>UsedNetwork</th>\n",
       "      <th>UsedLocalDiskSpace</th>\n",
       "      <th>UsedResources</th>\n",
       "      <th>ReqPlatform</th>\n",
       "      <th>ReqNetwork</th>\n",
       "      <th>ReqLocalDiskSpace</th>\n",
       "      <th>ReqResources</th>\n",
       "      <th>VOID</th>\n",
       "      <th>ProjectID</th>\n",
       "    </tr>\n",
       "  </thead>\n",
       "  <tbody>\n",
       "    <tr>\n",
       "      <th>0</th>\n",
       "      <td>1</td>\n",
       "      <td>1136070024</td>\n",
       "      <td>203761</td>\n",
       "      <td>138467</td>\n",
       "      <td>1</td>\n",
       "      <td>138371</td>\n",
       "      <td>98652</td>\n",
       "      <td>1</td>\n",
       "      <td>259200</td>\n",
       "      <td>-1</td>\n",
       "      <td>...</td>\n",
       "      <td>-1</td>\n",
       "      <td>-1</td>\n",
       "      <td>-1</td>\n",
       "      <td>-1</td>\n",
       "      <td>-1</td>\n",
       "      <td>-1</td>\n",
       "      <td>-1</td>\n",
       "      <td>-1</td>\n",
       "      <td>-1</td>\n",
       "      <td>-1</td>\n",
       "    </tr>\n",
       "    <tr>\n",
       "      <th>1</th>\n",
       "      <td>2</td>\n",
       "      <td>1136070690</td>\n",
       "      <td>0</td>\n",
       "      <td>11</td>\n",
       "      <td>1</td>\n",
       "      <td>4</td>\n",
       "      <td>35848</td>\n",
       "      <td>1</td>\n",
       "      <td>259200</td>\n",
       "      <td>-1</td>\n",
       "      <td>...</td>\n",
       "      <td>-1</td>\n",
       "      <td>-1</td>\n",
       "      <td>-1</td>\n",
       "      <td>-1</td>\n",
       "      <td>-1</td>\n",
       "      <td>-1</td>\n",
       "      <td>-1</td>\n",
       "      <td>-1</td>\n",
       "      <td>-1</td>\n",
       "      <td>-1</td>\n",
       "    </tr>\n",
       "    <tr>\n",
       "      <th>2</th>\n",
       "      <td>3</td>\n",
       "      <td>1136071207</td>\n",
       "      <td>117</td>\n",
       "      <td>201203</td>\n",
       "      <td>1</td>\n",
       "      <td>0</td>\n",
       "      <td>0</td>\n",
       "      <td>1</td>\n",
       "      <td>259200</td>\n",
       "      <td>-1</td>\n",
       "      <td>...</td>\n",
       "      <td>-1</td>\n",
       "      <td>-1</td>\n",
       "      <td>-1</td>\n",
       "      <td>-1</td>\n",
       "      <td>-1</td>\n",
       "      <td>-1</td>\n",
       "      <td>-1</td>\n",
       "      <td>-1</td>\n",
       "      <td>-1</td>\n",
       "      <td>-1</td>\n",
       "    </tr>\n",
       "    <tr>\n",
       "      <th>3</th>\n",
       "      <td>4</td>\n",
       "      <td>1136071267</td>\n",
       "      <td>4406</td>\n",
       "      <td>196985</td>\n",
       "      <td>1</td>\n",
       "      <td>0</td>\n",
       "      <td>0</td>\n",
       "      <td>1</td>\n",
       "      <td>259200</td>\n",
       "      <td>-1</td>\n",
       "      <td>...</td>\n",
       "      <td>-1</td>\n",
       "      <td>-1</td>\n",
       "      <td>-1</td>\n",
       "      <td>-1</td>\n",
       "      <td>-1</td>\n",
       "      <td>-1</td>\n",
       "      <td>-1</td>\n",
       "      <td>-1</td>\n",
       "      <td>-1</td>\n",
       "      <td>-1</td>\n",
       "    </tr>\n",
       "    <tr>\n",
       "      <th>4</th>\n",
       "      <td>5</td>\n",
       "      <td>1136071269</td>\n",
       "      <td>202516</td>\n",
       "      <td>19520</td>\n",
       "      <td>1</td>\n",
       "      <td>18731</td>\n",
       "      <td>522268</td>\n",
       "      <td>1</td>\n",
       "      <td>259200</td>\n",
       "      <td>-1</td>\n",
       "      <td>...</td>\n",
       "      <td>-1</td>\n",
       "      <td>-1</td>\n",
       "      <td>-1</td>\n",
       "      <td>-1</td>\n",
       "      <td>-1</td>\n",
       "      <td>-1</td>\n",
       "      <td>-1</td>\n",
       "      <td>-1</td>\n",
       "      <td>-1</td>\n",
       "      <td>-1</td>\n",
       "    </tr>\n",
       "  </tbody>\n",
       "</table>\n",
       "<p>5 rows × 29 columns</p>\n",
       "</div>"
      ],
      "text/plain": [
       "   JobID  SubmitTime  WaitTime  RunTime   NProcs  AverageCPUTimeUsed  \\\n",
       "0      1  1136070024    203761    138467       1              138371   \n",
       "1      2  1136070690         0        11       1                   4   \n",
       "2      3  1136071207       117    201203       1                   0   \n",
       "3      4  1136071267      4406    196985       1                   0   \n",
       "4      5  1136071269    202516     19520       1               18731   \n",
       "\n",
       "   Used Memory  ReqNProcs  ReqTime:   ReqMemory  ...  JobStructureParams  \\\n",
       "0        98652          1     259200         -1  ...                  -1   \n",
       "1        35848          1     259200         -1  ...                  -1   \n",
       "2            0          1     259200         -1  ...                  -1   \n",
       "3            0          1     259200         -1  ...                  -1   \n",
       "4       522268          1     259200         -1  ...                  -1   \n",
       "\n",
       "  UsedNetwork UsedLocalDiskSpace UsedResources ReqPlatform  ReqNetwork  \\\n",
       "0          -1                 -1            -1          -1          -1   \n",
       "1          -1                 -1            -1          -1          -1   \n",
       "2          -1                 -1            -1          -1          -1   \n",
       "3          -1                 -1            -1          -1          -1   \n",
       "4          -1                 -1            -1          -1          -1   \n",
       "\n",
       "  ReqLocalDiskSpace ReqResources  VOID  ProjectID  \n",
       "0                -1           -1    -1         -1  \n",
       "1                -1           -1    -1         -1  \n",
       "2                -1           -1    -1         -1  \n",
       "3                -1           -1    -1         -1  \n",
       "4                -1           -1    -1         -1  \n",
       "\n",
       "[5 rows x 29 columns]"
      ]
     },
     "execution_count": 58,
     "metadata": {},
     "output_type": "execute_result"
    }
   ],
   "source": [
    "df = pd.read_csv('processes_datasets.csv')\n",
    "print(\"Shape:\", df.shape)\n",
    "df.head()"
   ]
  },
  {
   "cell_type": "code",
   "execution_count": 59,
   "metadata": {
    "colab": {
     "base_uri": "https://localhost:8080/"
    },
    "id": "FEnsuvxxFKt3",
    "outputId": "97589415-d6f7-4750-91a2-f86883db34b9"
   },
   "outputs": [
    {
     "name": "stdout",
     "output_type": "stream",
     "text": [
      "<class 'pandas.core.frame.DataFrame'>\n",
      "RangeIndex: 404176 entries, 0 to 404175\n",
      "Data columns (total 29 columns):\n",
      " #   Column              Non-Null Count   Dtype \n",
      "---  ------              --------------   ----- \n",
      " 0   JobID               404176 non-null  int64 \n",
      " 1   SubmitTime          404176 non-null  int64 \n",
      " 2   WaitTime            404176 non-null  int64 \n",
      " 3   RunTime             404176 non-null  int64 \n",
      " 4   NProcs              404176 non-null  int64 \n",
      " 5   AverageCPUTimeUsed  404176 non-null  int64 \n",
      " 6   Used Memory         404176 non-null  int64 \n",
      " 7   ReqNProcs           404176 non-null  int64 \n",
      " 8   ReqTime:            404176 non-null  int64 \n",
      " 9   ReqMemory           404176 non-null  int64 \n",
      " 10  Status              404176 non-null  int64 \n",
      " 11  UserID              404176 non-null  object\n",
      " 12  GroupID             404176 non-null  object\n",
      " 13  ExecutableID        404176 non-null  object\n",
      " 14  QueueID             404176 non-null  object\n",
      " 15  PartitionID         404176 non-null  int64 \n",
      " 16  OrigSiteID          404176 non-null  object\n",
      " 17  LastRunSiteID       404176 non-null  object\n",
      " 18  JobStructure        404176 non-null  int64 \n",
      " 19  JobStructureParams  404176 non-null  int64 \n",
      " 20  UsedNetwork         404176 non-null  int64 \n",
      " 21  UsedLocalDiskSpace  404176 non-null  int64 \n",
      " 22  UsedResources       404176 non-null  int64 \n",
      " 23  ReqPlatform         404176 non-null  int64 \n",
      " 24  ReqNetwork          404176 non-null  int64 \n",
      " 25  ReqLocalDiskSpace   404176 non-null  int64 \n",
      " 26  ReqResources        404176 non-null  int64 \n",
      " 27  VOID                404176 non-null  int64 \n",
      " 28  ProjectID           404176 non-null  int64 \n",
      "dtypes: int64(23), object(6)\n",
      "memory usage: 89.4+ MB\n"
     ]
    }
   ],
   "source": [
    "df.info()"
   ]
  },
  {
   "cell_type": "code",
   "execution_count": 60,
   "metadata": {
    "colab": {
     "base_uri": "https://localhost:8080/"
    },
    "id": "OYGtRIsjFUgt",
    "outputId": "0e1269f6-b559-4e17-8ee0-ccf792cf7e59"
   },
   "outputs": [
    {
     "data": {
      "text/plain": [
       "Index(['JobID', 'SubmitTime', 'WaitTime', 'RunTime ', 'NProcs',\n",
       "       'AverageCPUTimeUsed', 'Used Memory', 'ReqNProcs', 'ReqTime: ',\n",
       "       'ReqMemory', 'Status', 'UserID', 'GroupID', 'ExecutableID', 'QueueID',\n",
       "       'PartitionID', 'OrigSiteID', 'LastRunSiteID', 'JobStructure',\n",
       "       'JobStructureParams', 'UsedNetwork', 'UsedLocalDiskSpace',\n",
       "       'UsedResources', 'ReqPlatform', 'ReqNetwork', 'ReqLocalDiskSpace',\n",
       "       'ReqResources', 'VOID', 'ProjectID'],\n",
       "      dtype='object')"
      ]
     },
     "execution_count": 60,
     "metadata": {},
     "output_type": "execute_result"
    }
   ],
   "source": [
    "df.columns"
   ]
  },
  {
   "cell_type": "markdown",
   "metadata": {
    "id": "vOw1jQPnFb35"
   },
   "source": [
    "## **1.3: Drop Columns with All -1**"
   ]
  },
  {
   "cell_type": "code",
   "execution_count": 61,
   "metadata": {
    "colab": {
     "base_uri": "https://localhost:8080/"
    },
    "id": "C_PDA8zyFaAV",
    "outputId": "f5628b43-2a9e-49df-f839-8eb3dfd1aafd"
   },
   "outputs": [
    {
     "name": "stdout",
     "output_type": "stream",
     "text": [
      "Selected features and target: ['SubmitTime', 'UserID', 'Used Memory', 'ReqTime: ', 'ReqMemory', 'RunTime ']\n"
     ]
    },
    {
     "data": {
      "text/html": [
       "<div>\n",
       "<style scoped>\n",
       "    .dataframe tbody tr th:only-of-type {\n",
       "        vertical-align: middle;\n",
       "    }\n",
       "\n",
       "    .dataframe tbody tr th {\n",
       "        vertical-align: top;\n",
       "    }\n",
       "\n",
       "    .dataframe thead th {\n",
       "        text-align: right;\n",
       "    }\n",
       "</style>\n",
       "<table border=\"1\" class=\"dataframe\">\n",
       "  <thead>\n",
       "    <tr style=\"text-align: right;\">\n",
       "      <th></th>\n",
       "      <th>SubmitTime</th>\n",
       "      <th>UserID</th>\n",
       "      <th>Used Memory</th>\n",
       "      <th>ReqTime:</th>\n",
       "      <th>ReqMemory</th>\n",
       "      <th>RunTime</th>\n",
       "    </tr>\n",
       "  </thead>\n",
       "  <tbody>\n",
       "    <tr>\n",
       "      <th>0</th>\n",
       "      <td>1136070024</td>\n",
       "      <td>U2004S1</td>\n",
       "      <td>98652</td>\n",
       "      <td>259200</td>\n",
       "      <td>-1</td>\n",
       "      <td>138467</td>\n",
       "    </tr>\n",
       "    <tr>\n",
       "      <th>1</th>\n",
       "      <td>1136070690</td>\n",
       "      <td>U1023S0</td>\n",
       "      <td>35848</td>\n",
       "      <td>259200</td>\n",
       "      <td>-1</td>\n",
       "      <td>11</td>\n",
       "    </tr>\n",
       "    <tr>\n",
       "      <th>2</th>\n",
       "      <td>1136071207</td>\n",
       "      <td>U2035S1</td>\n",
       "      <td>0</td>\n",
       "      <td>259200</td>\n",
       "      <td>-1</td>\n",
       "      <td>201203</td>\n",
       "    </tr>\n",
       "    <tr>\n",
       "      <th>3</th>\n",
       "      <td>1136071267</td>\n",
       "      <td>U2035S1</td>\n",
       "      <td>0</td>\n",
       "      <td>259200</td>\n",
       "      <td>-1</td>\n",
       "      <td>196985</td>\n",
       "    </tr>\n",
       "    <tr>\n",
       "      <th>4</th>\n",
       "      <td>1136071269</td>\n",
       "      <td>U2035S1</td>\n",
       "      <td>522268</td>\n",
       "      <td>259200</td>\n",
       "      <td>-1</td>\n",
       "      <td>19520</td>\n",
       "    </tr>\n",
       "  </tbody>\n",
       "</table>\n",
       "</div>"
      ],
      "text/plain": [
       "   SubmitTime   UserID  Used Memory  ReqTime:   ReqMemory  RunTime \n",
       "0  1136070024  U2004S1        98652     259200         -1    138467\n",
       "1  1136070690  U1023S0        35848     259200         -1        11\n",
       "2  1136071207  U2035S1            0     259200         -1    201203\n",
       "3  1136071267  U2035S1            0     259200         -1    196985\n",
       "4  1136071269  U2035S1       522268     259200         -1     19520"
      ]
     },
     "execution_count": 61,
     "metadata": {},
     "output_type": "execute_result"
    }
   ],
   "source": [
    "selected_columns = ['SubmitTime', 'UserID', 'Used Memory', 'ReqTime: ', 'ReqMemory', 'RunTime ']\n",
    "df_filtered = df[selected_columns].copy()\n",
    "#df_filtered = df_filtered[df_filtered['RunTime '] > 0]  # remove rows with 0 or invalid target\n",
    "print(\"Selected features and target:\", df_filtered.columns.tolist())\n",
    "df_filtered.head()"
   ]
  },
  {
   "cell_type": "code",
   "execution_count": 62,
   "metadata": {},
   "outputs": [
    {
     "data": {
      "text/html": [
       "<div>\n",
       "<style scoped>\n",
       "    .dataframe tbody tr th:only-of-type {\n",
       "        vertical-align: middle;\n",
       "    }\n",
       "\n",
       "    .dataframe tbody tr th {\n",
       "        vertical-align: top;\n",
       "    }\n",
       "\n",
       "    .dataframe thead th {\n",
       "        text-align: right;\n",
       "    }\n",
       "</style>\n",
       "<table border=\"1\" class=\"dataframe\">\n",
       "  <thead>\n",
       "    <tr style=\"text-align: right;\">\n",
       "      <th></th>\n",
       "      <th>SubmitTime</th>\n",
       "      <th>UserID</th>\n",
       "      <th>Used Memory</th>\n",
       "      <th>ReqTime:</th>\n",
       "      <th>ReqMemory</th>\n",
       "      <th>RunTime</th>\n",
       "    </tr>\n",
       "  </thead>\n",
       "  <tbody>\n",
       "    <tr>\n",
       "      <th>0</th>\n",
       "      <td>1136070024</td>\n",
       "      <td>U2004S1</td>\n",
       "      <td>98652</td>\n",
       "      <td>259200</td>\n",
       "      <td>-1</td>\n",
       "      <td>138467</td>\n",
       "    </tr>\n",
       "    <tr>\n",
       "      <th>1</th>\n",
       "      <td>1136070690</td>\n",
       "      <td>U1023S0</td>\n",
       "      <td>35848</td>\n",
       "      <td>259200</td>\n",
       "      <td>-1</td>\n",
       "      <td>11</td>\n",
       "    </tr>\n",
       "    <tr>\n",
       "      <th>2</th>\n",
       "      <td>1136071207</td>\n",
       "      <td>U2035S1</td>\n",
       "      <td>0</td>\n",
       "      <td>259200</td>\n",
       "      <td>-1</td>\n",
       "      <td>201203</td>\n",
       "    </tr>\n",
       "    <tr>\n",
       "      <th>3</th>\n",
       "      <td>1136071267</td>\n",
       "      <td>U2035S1</td>\n",
       "      <td>0</td>\n",
       "      <td>259200</td>\n",
       "      <td>-1</td>\n",
       "      <td>196985</td>\n",
       "    </tr>\n",
       "    <tr>\n",
       "      <th>4</th>\n",
       "      <td>1136071269</td>\n",
       "      <td>U2035S1</td>\n",
       "      <td>522268</td>\n",
       "      <td>259200</td>\n",
       "      <td>-1</td>\n",
       "      <td>19520</td>\n",
       "    </tr>\n",
       "    <tr>\n",
       "      <th>...</th>\n",
       "      <td>...</td>\n",
       "      <td>...</td>\n",
       "      <td>...</td>\n",
       "      <td>...</td>\n",
       "      <td>...</td>\n",
       "      <td>...</td>\n",
       "    </tr>\n",
       "    <tr>\n",
       "      <th>404171</th>\n",
       "      <td>1167603618</td>\n",
       "      <td>U41</td>\n",
       "      <td>0</td>\n",
       "      <td>259200</td>\n",
       "      <td>-1</td>\n",
       "      <td>56</td>\n",
       "    </tr>\n",
       "    <tr>\n",
       "      <th>404172</th>\n",
       "      <td>1167603624</td>\n",
       "      <td>U41</td>\n",
       "      <td>61084</td>\n",
       "      <td>259200</td>\n",
       "      <td>-1</td>\n",
       "      <td>57</td>\n",
       "    </tr>\n",
       "    <tr>\n",
       "      <th>404173</th>\n",
       "      <td>1167603637</td>\n",
       "      <td>U41</td>\n",
       "      <td>0</td>\n",
       "      <td>259200</td>\n",
       "      <td>-1</td>\n",
       "      <td>45</td>\n",
       "    </tr>\n",
       "    <tr>\n",
       "      <th>404174</th>\n",
       "      <td>1167603747</td>\n",
       "      <td>U41</td>\n",
       "      <td>0</td>\n",
       "      <td>259200</td>\n",
       "      <td>-1</td>\n",
       "      <td>43</td>\n",
       "    </tr>\n",
       "    <tr>\n",
       "      <th>404175</th>\n",
       "      <td>1167605790</td>\n",
       "      <td>-1</td>\n",
       "      <td>-1</td>\n",
       "      <td>-1</td>\n",
       "      <td>-1</td>\n",
       "      <td>-1</td>\n",
       "    </tr>\n",
       "  </tbody>\n",
       "</table>\n",
       "<p>404176 rows × 6 columns</p>\n",
       "</div>"
      ],
      "text/plain": [
       "        SubmitTime   UserID  Used Memory  ReqTime:   ReqMemory  RunTime \n",
       "0       1136070024  U2004S1        98652     259200         -1    138467\n",
       "1       1136070690  U1023S0        35848     259200         -1        11\n",
       "2       1136071207  U2035S1            0     259200         -1    201203\n",
       "3       1136071267  U2035S1            0     259200         -1    196985\n",
       "4       1136071269  U2035S1       522268     259200         -1     19520\n",
       "...            ...      ...          ...        ...        ...       ...\n",
       "404171  1167603618      U41            0     259200         -1        56\n",
       "404172  1167603624      U41        61084     259200         -1        57\n",
       "404173  1167603637      U41            0     259200         -1        45\n",
       "404174  1167603747      U41            0     259200         -1        43\n",
       "404175  1167605790       -1           -1         -1         -1        -1\n",
       "\n",
       "[404176 rows x 6 columns]"
      ]
     },
     "execution_count": 62,
     "metadata": {},
     "output_type": "execute_result"
    }
   ],
   "source": [
    "df_filtered"
   ]
  },
  {
   "cell_type": "code",
   "execution_count": 63,
   "metadata": {},
   "outputs": [
    {
     "data": {
      "text/plain": [
       "JobStructureParams\n",
       "-1    404176\n",
       "Name: count, dtype: int64"
      ]
     },
     "execution_count": 63,
     "metadata": {},
     "output_type": "execute_result"
    }
   ],
   "source": [
    "df['JobStructureParams'].value_counts()"
   ]
  },
  {
   "cell_type": "code",
   "execution_count": 18,
   "metadata": {},
   "outputs": [
    {
     "data": {
      "text/html": [
       "<div>\n",
       "<style scoped>\n",
       "    .dataframe tbody tr th:only-of-type {\n",
       "        vertical-align: middle;\n",
       "    }\n",
       "\n",
       "    .dataframe tbody tr th {\n",
       "        vertical-align: top;\n",
       "    }\n",
       "\n",
       "    .dataframe thead th {\n",
       "        text-align: right;\n",
       "    }\n",
       "</style>\n",
       "<table border=\"1\" class=\"dataframe\">\n",
       "  <thead>\n",
       "    <tr style=\"text-align: right;\">\n",
       "      <th></th>\n",
       "      <th>SubmitTime</th>\n",
       "      <th>UserID</th>\n",
       "      <th>Used Memory</th>\n",
       "      <th>ReqTime:</th>\n",
       "      <th>ReqMemory</th>\n",
       "      <th>RunTime</th>\n",
       "    </tr>\n",
       "  </thead>\n",
       "  <tbody>\n",
       "    <tr>\n",
       "      <th>0</th>\n",
       "      <td>1136070024</td>\n",
       "      <td>U2004S1</td>\n",
       "      <td>98652</td>\n",
       "      <td>259200</td>\n",
       "      <td>-1</td>\n",
       "      <td>138467</td>\n",
       "    </tr>\n",
       "    <tr>\n",
       "      <th>1</th>\n",
       "      <td>1136070690</td>\n",
       "      <td>U1023S0</td>\n",
       "      <td>35848</td>\n",
       "      <td>259200</td>\n",
       "      <td>-1</td>\n",
       "      <td>11</td>\n",
       "    </tr>\n",
       "    <tr>\n",
       "      <th>2</th>\n",
       "      <td>1136071207</td>\n",
       "      <td>U2035S1</td>\n",
       "      <td>0</td>\n",
       "      <td>259200</td>\n",
       "      <td>-1</td>\n",
       "      <td>201203</td>\n",
       "    </tr>\n",
       "    <tr>\n",
       "      <th>3</th>\n",
       "      <td>1136071267</td>\n",
       "      <td>U2035S1</td>\n",
       "      <td>0</td>\n",
       "      <td>259200</td>\n",
       "      <td>-1</td>\n",
       "      <td>196985</td>\n",
       "    </tr>\n",
       "    <tr>\n",
       "      <th>4</th>\n",
       "      <td>1136071269</td>\n",
       "      <td>U2035S1</td>\n",
       "      <td>522268</td>\n",
       "      <td>259200</td>\n",
       "      <td>-1</td>\n",
       "      <td>19520</td>\n",
       "    </tr>\n",
       "  </tbody>\n",
       "</table>\n",
       "</div>"
      ],
      "text/plain": [
       "   SubmitTime   UserID  Used Memory  ReqTime:   ReqMemory  RunTime \n",
       "0  1136070024  U2004S1        98652     259200         -1    138467\n",
       "1  1136070690  U1023S0        35848     259200         -1        11\n",
       "2  1136071207  U2035S1            0     259200         -1    201203\n",
       "3  1136071267  U2035S1            0     259200         -1    196985\n",
       "4  1136071269  U2035S1       522268     259200         -1     19520"
      ]
     },
     "execution_count": 18,
     "metadata": {},
     "output_type": "execute_result"
    }
   ],
   "source": [
    "df_filtered.head()"
   ]
  },
  {
   "cell_type": "code",
   "execution_count": 19,
   "metadata": {},
   "outputs": [
    {
     "data": {
      "text/plain": [
       "ReqMemory\n",
       "-1          368345\n",
       " 819200      29369\n",
       " 1126400      5542\n",
       " 614400        714\n",
       " 512000        186\n",
       " 524288         17\n",
       " 262144          2\n",
       " 921600          1\n",
       "Name: count, dtype: int64"
      ]
     },
     "execution_count": 19,
     "metadata": {},
     "output_type": "execute_result"
    }
   ],
   "source": [
    "df_filtered['ReqMemory'].value_counts()"
   ]
  },
  {
   "cell_type": "markdown",
   "metadata": {
    "id": "myNEDMG8M70k"
   },
   "source": [
    "## **1.4 Drop columns containing IDs**"
   ]
  },
  {
   "cell_type": "code",
   "execution_count": null,
   "metadata": {
    "colab": {
     "base_uri": "https://localhost:8080/"
    },
    "id": "dbhkFn6_NQBx",
    "outputId": "6a2fc26e-4ac6-4321-b9ba-966718eac136"
   },
   "outputs": [],
   "source": [
    "# columns_to_drop = [\n",
    "#     'JobID', 'UserID', 'GroupID', 'QueueID',\n",
    "#     'ExecutableID', 'PartitionID', 'OrigSiteID', 'LastRunSiteID'\n",
    "# ]\n",
    "# df_filtered.drop(columns=[col for col in columns_to_drop if col in df_filtered.columns], inplace=True)\n",
    "# print(\"Shape:\", df_filtered.shape)"
   ]
  },
  {
   "cell_type": "code",
   "execution_count": 64,
   "metadata": {},
   "outputs": [],
   "source": [
    "from sklearn.preprocessing import LabelEncoder\n",
    "le = LabelEncoder()\n",
    "df_filtered['UserID'] = le.fit_transform(df_filtered['UserID'])"
   ]
  },
  {
   "cell_type": "code",
   "execution_count": 65,
   "metadata": {
    "colab": {
     "base_uri": "https://localhost:8080/"
    },
    "id": "mqRNvjEyOBAZ",
    "outputId": "cbfb7bff-dd73-43e3-d607-e34d95098aea"
   },
   "outputs": [
    {
     "data": {
      "text/plain": [
       "Index(['SubmitTime', 'UserID', 'Used Memory', 'ReqTime: ', 'ReqMemory',\n",
       "       'RunTime '],\n",
       "      dtype='object')"
      ]
     },
     "execution_count": 65,
     "metadata": {},
     "output_type": "execute_result"
    }
   ],
   "source": [
    "df_filtered.columns"
   ]
  },
  {
   "cell_type": "code",
   "execution_count": 66,
   "metadata": {
    "colab": {
     "base_uri": "https://localhost:8080/"
    },
    "id": "TXuYiG1jTPuE",
    "outputId": "1bfad668-ad2c-4adb-aa23-242de06b1382"
   },
   "outputs": [
    {
     "name": "stdout",
     "output_type": "stream",
     "text": [
      "Shape: (5000, 6)\n"
     ]
    }
   ],
   "source": [
    "# using first 5000 datatpoints\n",
    "df_filtered = df_filtered.head(5000)\n",
    "print(\"Shape:\", df_filtered.shape)"
   ]
  },
  {
   "cell_type": "code",
   "execution_count": 67,
   "metadata": {
    "colab": {
     "base_uri": "https://localhost:8080/"
    },
    "id": "PWd62Dlithja",
    "outputId": "72d9aa7c-4ce0-4206-b2a5-59f53e32af6d"
   },
   "outputs": [
    {
     "name": "stdout",
     "output_type": "stream",
     "text": [
      "Shape: (4340, 6)\n"
     ]
    }
   ],
   "source": [
    "# exclude process with no burst time i.e., -1\n",
    "df_filtered = df_filtered[df_filtered['RunTime '] != -1]\n",
    "print(\"Shape:\", df_filtered.shape)"
   ]
  },
  {
   "cell_type": "code",
   "execution_count": 68,
   "metadata": {},
   "outputs": [
    {
     "data": {
      "text/html": [
       "<div>\n",
       "<style scoped>\n",
       "    .dataframe tbody tr th:only-of-type {\n",
       "        vertical-align: middle;\n",
       "    }\n",
       "\n",
       "    .dataframe tbody tr th {\n",
       "        vertical-align: top;\n",
       "    }\n",
       "\n",
       "    .dataframe thead th {\n",
       "        text-align: right;\n",
       "    }\n",
       "</style>\n",
       "<table border=\"1\" class=\"dataframe\">\n",
       "  <thead>\n",
       "    <tr style=\"text-align: right;\">\n",
       "      <th></th>\n",
       "      <th>SubmitTime</th>\n",
       "      <th>UserID</th>\n",
       "      <th>Used Memory</th>\n",
       "      <th>ReqTime:</th>\n",
       "      <th>ReqMemory</th>\n",
       "      <th>RunTime</th>\n",
       "    </tr>\n",
       "  </thead>\n",
       "  <tbody>\n",
       "    <tr>\n",
       "      <th>0</th>\n",
       "      <td>1136070024</td>\n",
       "      <td>133</td>\n",
       "      <td>98652</td>\n",
       "      <td>259200</td>\n",
       "      <td>-1</td>\n",
       "      <td>138467</td>\n",
       "    </tr>\n",
       "    <tr>\n",
       "      <th>1</th>\n",
       "      <td>1136070690</td>\n",
       "      <td>27</td>\n",
       "      <td>35848</td>\n",
       "      <td>259200</td>\n",
       "      <td>-1</td>\n",
       "      <td>11</td>\n",
       "    </tr>\n",
       "    <tr>\n",
       "      <th>2</th>\n",
       "      <td>1136071207</td>\n",
       "      <td>167</td>\n",
       "      <td>0</td>\n",
       "      <td>259200</td>\n",
       "      <td>-1</td>\n",
       "      <td>201203</td>\n",
       "    </tr>\n",
       "    <tr>\n",
       "      <th>3</th>\n",
       "      <td>1136071267</td>\n",
       "      <td>167</td>\n",
       "      <td>0</td>\n",
       "      <td>259200</td>\n",
       "      <td>-1</td>\n",
       "      <td>196985</td>\n",
       "    </tr>\n",
       "    <tr>\n",
       "      <th>4</th>\n",
       "      <td>1136071269</td>\n",
       "      <td>167</td>\n",
       "      <td>522268</td>\n",
       "      <td>259200</td>\n",
       "      <td>-1</td>\n",
       "      <td>19520</td>\n",
       "    </tr>\n",
       "  </tbody>\n",
       "</table>\n",
       "</div>"
      ],
      "text/plain": [
       "   SubmitTime  UserID  Used Memory  ReqTime:   ReqMemory  RunTime \n",
       "0  1136070024     133        98652     259200         -1    138467\n",
       "1  1136070690      27        35848     259200         -1        11\n",
       "2  1136071207     167            0     259200         -1    201203\n",
       "3  1136071267     167            0     259200         -1    196985\n",
       "4  1136071269     167       522268     259200         -1     19520"
      ]
     },
     "execution_count": 68,
     "metadata": {},
     "output_type": "execute_result"
    }
   ],
   "source": [
    "df_filtered.head()"
   ]
  },
  {
   "cell_type": "markdown",
   "metadata": {
    "id": "H8OA1nW-R0uq"
   },
   "source": [
    "## **1.5 Split dataset**"
   ]
  },
  {
   "cell_type": "code",
   "execution_count": 69,
   "metadata": {
    "id": "seuwYv9yR7Sd"
   },
   "outputs": [],
   "source": [
    "# Target\n",
    "y = df_filtered['RunTime ']\n",
    "\n",
    "# Features\n",
    "X = df_filtered.drop(columns=['RunTime '])\n",
    "\n",
    "# Split\n",
    "X_train, X_test, y_train, y_test = train_test_split(X, y, test_size=0.2, random_state=0,shuffle=False)"
   ]
  },
  {
   "cell_type": "code",
   "execution_count": 70,
   "metadata": {
    "colab": {
     "base_uri": "https://localhost:8080/"
    },
    "id": "IAIWprAiTleS",
    "outputId": "2f301c63-f330-4e88-8ae9-7574bdd471bd"
   },
   "outputs": [
    {
     "name": "stdout",
     "output_type": "stream",
     "text": [
      "X_train shape: (3472, 5)\n",
      "y_train shape: (3472,)\n",
      "X_test shape: (868, 5)\n",
      "y_test shape: (868,)\n"
     ]
    }
   ],
   "source": [
    "print(\"X_train shape:\", X_train.shape)\n",
    "print(\"y_train shape:\", y_train.shape)\n",
    "print(\"X_test shape:\", X_test.shape)\n",
    "print(\"y_test shape:\", y_test.shape)"
   ]
  },
  {
   "cell_type": "code",
   "execution_count": 71,
   "metadata": {},
   "outputs": [
    {
     "data": {
      "text/html": [
       "<div>\n",
       "<style scoped>\n",
       "    .dataframe tbody tr th:only-of-type {\n",
       "        vertical-align: middle;\n",
       "    }\n",
       "\n",
       "    .dataframe tbody tr th {\n",
       "        vertical-align: top;\n",
       "    }\n",
       "\n",
       "    .dataframe thead th {\n",
       "        text-align: right;\n",
       "    }\n",
       "</style>\n",
       "<table border=\"1\" class=\"dataframe\">\n",
       "  <thead>\n",
       "    <tr style=\"text-align: right;\">\n",
       "      <th></th>\n",
       "      <th>SubmitTime</th>\n",
       "      <th>UserID</th>\n",
       "      <th>Used Memory</th>\n",
       "      <th>ReqTime:</th>\n",
       "      <th>ReqMemory</th>\n",
       "    </tr>\n",
       "  </thead>\n",
       "  <tbody>\n",
       "    <tr>\n",
       "      <th>0</th>\n",
       "      <td>1136070024</td>\n",
       "      <td>133</td>\n",
       "      <td>98652</td>\n",
       "      <td>259200</td>\n",
       "      <td>-1</td>\n",
       "    </tr>\n",
       "    <tr>\n",
       "      <th>1</th>\n",
       "      <td>1136070690</td>\n",
       "      <td>27</td>\n",
       "      <td>35848</td>\n",
       "      <td>259200</td>\n",
       "      <td>-1</td>\n",
       "    </tr>\n",
       "    <tr>\n",
       "      <th>2</th>\n",
       "      <td>1136071207</td>\n",
       "      <td>167</td>\n",
       "      <td>0</td>\n",
       "      <td>259200</td>\n",
       "      <td>-1</td>\n",
       "    </tr>\n",
       "    <tr>\n",
       "      <th>3</th>\n",
       "      <td>1136071267</td>\n",
       "      <td>167</td>\n",
       "      <td>0</td>\n",
       "      <td>259200</td>\n",
       "      <td>-1</td>\n",
       "    </tr>\n",
       "    <tr>\n",
       "      <th>4</th>\n",
       "      <td>1136071269</td>\n",
       "      <td>167</td>\n",
       "      <td>522268</td>\n",
       "      <td>259200</td>\n",
       "      <td>-1</td>\n",
       "    </tr>\n",
       "    <tr>\n",
       "      <th>...</th>\n",
       "      <td>...</td>\n",
       "      <td>...</td>\n",
       "      <td>...</td>\n",
       "      <td>...</td>\n",
       "      <td>...</td>\n",
       "    </tr>\n",
       "    <tr>\n",
       "      <th>3969</th>\n",
       "      <td>1137075251</td>\n",
       "      <td>16</td>\n",
       "      <td>256324</td>\n",
       "      <td>259200</td>\n",
       "      <td>-1</td>\n",
       "    </tr>\n",
       "    <tr>\n",
       "      <th>3970</th>\n",
       "      <td>1137075296</td>\n",
       "      <td>41</td>\n",
       "      <td>0</td>\n",
       "      <td>259200</td>\n",
       "      <td>-1</td>\n",
       "    </tr>\n",
       "    <tr>\n",
       "      <th>3971</th>\n",
       "      <td>1137075311</td>\n",
       "      <td>16</td>\n",
       "      <td>0</td>\n",
       "      <td>259200</td>\n",
       "      <td>-1</td>\n",
       "    </tr>\n",
       "    <tr>\n",
       "      <th>3972</th>\n",
       "      <td>1137075370</td>\n",
       "      <td>16</td>\n",
       "      <td>0</td>\n",
       "      <td>259200</td>\n",
       "      <td>-1</td>\n",
       "    </tr>\n",
       "    <tr>\n",
       "      <th>3973</th>\n",
       "      <td>1137075372</td>\n",
       "      <td>16</td>\n",
       "      <td>0</td>\n",
       "      <td>259200</td>\n",
       "      <td>-1</td>\n",
       "    </tr>\n",
       "  </tbody>\n",
       "</table>\n",
       "<p>3472 rows × 5 columns</p>\n",
       "</div>"
      ],
      "text/plain": [
       "      SubmitTime  UserID  Used Memory  ReqTime:   ReqMemory\n",
       "0     1136070024     133        98652     259200         -1\n",
       "1     1136070690      27        35848     259200         -1\n",
       "2     1136071207     167            0     259200         -1\n",
       "3     1136071267     167            0     259200         -1\n",
       "4     1136071269     167       522268     259200         -1\n",
       "...          ...     ...          ...        ...        ...\n",
       "3969  1137075251      16       256324     259200         -1\n",
       "3970  1137075296      41            0     259200         -1\n",
       "3971  1137075311      16            0     259200         -1\n",
       "3972  1137075370      16            0     259200         -1\n",
       "3973  1137075372      16            0     259200         -1\n",
       "\n",
       "[3472 rows x 5 columns]"
      ]
     },
     "execution_count": 71,
     "metadata": {},
     "output_type": "execute_result"
    }
   ],
   "source": [
    "X_train"
   ]
  },
  {
   "cell_type": "markdown",
   "metadata": {
    "id": "EW39CRyPi2zr"
   },
   "source": [
    "## **1.6: Normalize data**"
   ]
  },
  {
   "cell_type": "code",
   "execution_count": 72,
   "metadata": {
    "id": "1gYnqsapi7oc"
   },
   "outputs": [],
   "source": [
    "from sklearn.preprocessing import MinMaxScaler\n",
    "\n",
    "# Normalize minmax\n",
    "scaler_X = MinMaxScaler()\n",
    "X_train = scaler_X.fit_transform(X_train)\n",
    "X_test = scaler_X.transform(X_test)"
   ]
  },
  {
   "cell_type": "code",
   "execution_count": 28,
   "metadata": {},
   "outputs": [
    {
     "data": {
      "text/plain": [
       "array([[0.00000000e+00, 3.58333333e-01, 3.85795203e-02, 1.00000000e+00,\n",
       "        0.00000000e+00],\n",
       "       [6.62457179e-04, 6.38888889e-02, 1.40189620e-02, 1.00000000e+00,\n",
       "        0.00000000e+00],\n",
       "       [1.17670697e-03, 4.52777778e-01, 0.00000000e+00, 1.00000000e+00,\n",
       "        0.00000000e+00],\n",
       "       ...,\n",
       "       [9.99939324e-01, 3.33333333e-02, 0.00000000e+00, 1.00000000e+00,\n",
       "        0.00000000e+00],\n",
       "       [9.99998011e-01, 3.33333333e-02, 0.00000000e+00, 1.00000000e+00,\n",
       "        0.00000000e+00],\n",
       "       [1.00000000e+00, 3.33333333e-02, 0.00000000e+00, 1.00000000e+00,\n",
       "        0.00000000e+00]], shape=(3472, 5))"
      ]
     },
     "execution_count": 28,
     "metadata": {},
     "output_type": "execute_result"
    }
   ],
   "source": [
    "X_train"
   ]
  },
  {
   "cell_type": "markdown",
   "metadata": {},
   "source": [
    "## Reshape data for RNN"
   ]
  },
  {
   "cell_type": "code",
   "execution_count": 75,
   "metadata": {},
   "outputs": [],
   "source": [
    "time_steps = 3\n",
    "n_features = X_train.shape[1]\n",
    "\n",
    "# Trim X_train to be divisible by time_steps\n",
    "trim = X_train.shape[0] % time_steps\n",
    "if trim != 0:\n",
    "    X_train = X_train[:-trim]\n",
    "    y_train = y_train[:-trim]\n",
    "\n",
    "X_train_rnn = X_train.reshape((-1, time_steps, n_features))\n",
    "# y_train_rnn = y_train.reshape((-1, time_steps))  # Optional\n",
    "\n",
    "# Do the same for test set\n",
    "trim_test = X_test.shape[0] % time_steps\n",
    "if trim_test != 0:\n",
    "    X_test = X_test[:-trim_test]\n",
    "    y_test = y_test[:-trim_test]\n",
    "\n",
    "X_test_rnn = X_test.reshape((-1, time_steps, n_features))\n",
    "#y_test_rnn = y_test.reshape((-1, time_steps))  # Optional\n"
   ]
  },
  {
   "cell_type": "code",
   "execution_count": 76,
   "metadata": {},
   "outputs": [
    {
     "data": {
      "text/plain": [
       "(1157, 3, 5)"
      ]
     },
     "execution_count": 76,
     "metadata": {},
     "output_type": "execute_result"
    }
   ],
   "source": [
    "X_train_rnn.shape"
   ]
  },
  {
   "cell_type": "code",
   "execution_count": 77,
   "metadata": {},
   "outputs": [
    {
     "data": {
      "text/plain": [
       "(289, 3, 5)"
      ]
     },
     "execution_count": 77,
     "metadata": {},
     "output_type": "execute_result"
    }
   ],
   "source": [
    "X_test_rnn.shape"
   ]
  },
  {
   "cell_type": "markdown",
   "metadata": {
    "id": "GOPJ7o06MF8C"
   },
   "source": [
    "# **2. Train MLP Regressor on Filtered Data**"
   ]
  },
  {
   "cell_type": "markdown",
   "metadata": {
    "id": "WVAIVNcKMNj7"
   },
   "source": [
    "## **2.1: Define Dataset and DataLoaders**"
   ]
  },
  {
   "cell_type": "code",
   "execution_count": 80,
   "metadata": {
    "id": "rxHbUWGtMJEG"
   },
   "outputs": [],
   "source": [
    "import torch\n",
    "from torch.utils.data import Dataset, DataLoader\n",
    "\n",
    "# Custom dataset class\n",
    "class ProcessDataset(Dataset):\n",
    "    def __init__(self, X, y):\n",
    "        self.X = torch.tensor(X, dtype=torch.float32)\n",
    "        self.y = torch.tensor(y.to_numpy(), dtype=torch.float32).view(-1, 1)\n",
    "\n",
    "    def __len__(self):\n",
    "        return len(self.X)\n",
    "\n",
    "    def __getitem__(self, idx):\n",
    "        return self.X[idx], self.y[idx]\n",
    "\n",
    "# Create datasets and loaders\n",
    "train_ds = ProcessDataset(X_train_rnn, y_train)\n",
    "test_ds = ProcessDataset(X_test_rnn, y_test)\n",
    "\n",
    "train_loader = DataLoader(train_ds, batch_size=64, shuffle=True)\n",
    "test_loader = DataLoader(test_ds, batch_size=64)"
   ]
  },
  {
   "cell_type": "markdown",
   "metadata": {},
   "source": [
    "## Define the RNN Regressor in PyTorch"
   ]
  },
  {
   "cell_type": "code",
   "execution_count": 81,
   "metadata": {},
   "outputs": [],
   "source": [
    "class LSTMRegressor(nn.Module):\n",
    "    def __init__(self, input_size, hidden_size=64, num_layers=3, dropout=0.3):\n",
    "        super(LSTMRegressor, self).__init__()\n",
    "        self.lstm = nn.LSTM(input_size=input_size,\n",
    "                            hidden_size=hidden_size,\n",
    "                            num_layers=num_layers,\n",
    "                            dropout=dropout,\n",
    "                            batch_first=True)\n",
    "        self.fc = nn.Linear(hidden_size, 1)\n",
    "\n",
    "    def forward(self, x):\n",
    "        out, _ = self.lstm(x)          # out: (batch, time_step, hidden_size)\n",
    "        out = out[:, -1, :]            # take output from last time step\n",
    "        return self.fc(out)"
   ]
  },
  {
   "cell_type": "markdown",
   "metadata": {
    "id": "r3CiiRiBhRVZ"
   },
   "source": [
    "## **2.3: Training Function**"
   ]
  },
  {
   "cell_type": "code",
   "execution_count": 82,
   "metadata": {
    "id": "5n7hj3MUhQEe"
   },
   "outputs": [],
   "source": [
    "def train_model(model, dataloader, optimizer, criterion, device, num_epochs=50):\n",
    "    model.train()\n",
    "    epoch_losses = []\n",
    "\n",
    "    for epoch in range(num_epochs):\n",
    "        running_loss = 0.0\n",
    "        for X_batch, y_batch in dataloader:\n",
    "            X_batch, y_batch = X_batch.to(device), y_batch.to(device)\n",
    "            optimizer.zero_grad()\n",
    "            y_pred = model(X_batch)\n",
    "            loss = criterion(y_pred, y_batch)\n",
    "            loss.backward()\n",
    "            optimizer.step()\n",
    "            running_loss += loss.item()\n",
    "\n",
    "        avg_loss = running_loss / len(dataloader)\n",
    "        epoch_losses.append(avg_loss)\n",
    "        if (epoch + 1) % 100 == 0:\n",
    "            print(f\"Epoch {epoch+1}/{num_epochs}, Loss: {avg_loss:.4f}\")\n",
    "\n",
    "    return epoch_losses"
   ]
  },
  {
   "cell_type": "markdown",
   "metadata": {
    "id": "yAT68sixhYJY"
   },
   "source": [
    "## **2.4: Evaluation Metrics**"
   ]
  },
  {
   "cell_type": "code",
   "execution_count": 83,
   "metadata": {
    "id": "vnfj-9trhVu9"
   },
   "outputs": [],
   "source": [
    "def evaluate_model(model, dataloader, y_true, device):\n",
    "    model.eval()\n",
    "    preds = []\n",
    "\n",
    "    with torch.no_grad():\n",
    "        for X_batch, _ in dataloader:\n",
    "            X_batch = X_batch.to(device)\n",
    "            y_pred = model(X_batch)\n",
    "            preds.append(y_pred.cpu().numpy())\n",
    "\n",
    "    y_pred = np.vstack(preds).flatten()\n",
    "    y_true = y_true.flatten()\n",
    "\n",
    "    mae = mean_absolute_error(y_true, y_pred)\n",
    "    r2 = r2_score(y_true, y_pred)\n",
    "    cc = np.corrcoef(y_true, y_pred)[0, 1]\n",
    "    rae = np.sum(np.abs(y_true - y_pred)) / np.sum(np.abs(y_true - np.mean(y_true)))\n",
    "\n",
    "    return {\n",
    "        'MAE': mae,\n",
    "        'R2': r2,\n",
    "        'CC': cc,\n",
    "        'RAE (%)': rae * 100\n",
    "    }"
   ]
  },
  {
   "cell_type": "code",
   "execution_count": 84,
   "metadata": {},
   "outputs": [
    {
     "name": "stdout",
     "output_type": "stream",
     "text": [
      "Using device: cpu\n"
     ]
    }
   ],
   "source": [
    "device = torch.device(\"cuda\" if torch.cuda.is_available() else \"cpu\")\n",
    "print(\"Using device:\", device)"
   ]
  },
  {
   "cell_type": "markdown",
   "metadata": {
    "id": "qaf_fyhBhh4_"
   },
   "source": [
    "## **2.5: Train RNN Model**"
   ]
  },
  {
   "cell_type": "code",
   "execution_count": 85,
   "metadata": {
    "colab": {
     "base_uri": "https://localhost:8080/"
    },
    "id": "5AnTYncDhdaT",
    "outputId": "98abf9dd-8ae3-488e-81f6-3c0e3039a698"
   },
   "outputs": [
    {
     "name": "stdout",
     "output_type": "stream",
     "text": [
      "Using device: cpu\n",
      "Epoch 100/15000, Loss: 2297237045.8947\n",
      "Epoch 200/15000, Loss: 2201941072.8421\n",
      "Epoch 300/15000, Loss: 2106926926.4112\n",
      "Epoch 400/15000, Loss: 2102335647.4079\n",
      "Epoch 500/15000, Loss: 2097677006.8158\n",
      "Epoch 600/15000, Loss: 2093060779.4737\n",
      "Epoch 700/15000, Loss: 2179048818.5263\n",
      "Epoch 800/15000, Loss: 2090413812.2105\n",
      "Epoch 900/15000, Loss: 2253113121.6842\n",
      "Epoch 1000/15000, Loss: 2244749898.1053\n",
      "Epoch 1100/15000, Loss: 2070408653.1842\n",
      "Epoch 1200/15000, Loss: 2595858849.6842\n",
      "Epoch 1300/15000, Loss: 2230188416.0000\n",
      "Epoch 1400/15000, Loss: 2057178590.5921\n",
      "Epoch 1500/15000, Loss: 2139547856.8421\n",
      "Epoch 1600/15000, Loss: 2048421514.8849\n",
      "Epoch 1700/15000, Loss: 2127838147.3684\n",
      "Epoch 1800/15000, Loss: 2125020490.1053\n",
      "Epoch 1900/15000, Loss: 2038587594.1053\n",
      "Epoch 2000/15000, Loss: 2115519750.7368\n",
      "Epoch 2100/15000, Loss: 2114868924.6316\n",
      "Epoch 2200/15000, Loss: 2023167563.7105\n",
      "Epoch 2300/15000, Loss: 2018999240.2500\n",
      "Epoch 2400/15000, Loss: 2100785997.4737\n",
      "Epoch 2500/15000, Loss: 2209714553.2632\n",
      "Epoch 2600/15000, Loss: 2006898253.9211\n",
      "Epoch 2700/15000, Loss: 2254590713.2632\n",
      "Epoch 2800/15000, Loss: 2447030767.1579\n",
      "Epoch 2900/15000, Loss: 2168236180.2105\n",
      "Epoch 3000/15000, Loss: 2070264387.3684\n",
      "Epoch 3100/15000, Loss: 2175148523.7895\n",
      "Epoch 3200/15000, Loss: 2229595530.1053\n",
      "Epoch 3300/15000, Loss: 2005677315.3684\n",
      "Epoch 3400/15000, Loss: 2055588668.6316\n",
      "Epoch 3500/15000, Loss: 2605861615.1579\n",
      "Epoch 3600/15000, Loss: 2141968730.9474\n",
      "Epoch 3700/15000, Loss: 2753255265.6842\n",
      "Epoch 3800/15000, Loss: 2215641505.6842\n",
      "Epoch 3900/15000, Loss: 2033961556.2105\n",
      "Epoch 4000/15000, Loss: 2033267563.7895\n",
      "Epoch 4100/15000, Loss: 2110724698.9474\n",
      "Epoch 4200/15000, Loss: 2111371769.2632\n",
      "Epoch 4300/15000, Loss: 1943188034.8421\n",
      "Epoch 4400/15000, Loss: 1939527271.8947\n",
      "Epoch 4500/15000, Loss: 2090852399.1579\n",
      "Epoch 4600/15000, Loss: 1932474789.5789\n",
      "Epoch 4700/15000, Loss: 1929460646.5263\n",
      "Epoch 4800/15000, Loss: 2005689630.3158\n",
      "Epoch 4900/15000, Loss: 2000981416.4211\n",
      "Epoch 5000/15000, Loss: 2180778209.6842\n",
      "Epoch 5100/15000, Loss: 1993040006.7368\n",
      "Epoch 5200/15000, Loss: 2081226017.6842\n",
      "Epoch 5300/15000, Loss: 2067870632.4211\n",
      "Epoch 5400/15000, Loss: 1907666581.4737\n",
      "Epoch 5500/15000, Loss: 2052858489.2632\n",
      "Epoch 5600/15000, Loss: 1900201194.5263\n",
      "Epoch 5700/15000, Loss: 1896614176.2105\n",
      "Epoch 5800/15000, Loss: 1968257549.4737\n",
      "Epoch 5900/15000, Loss: 1964530374.7368\n",
      "Epoch 6000/15000, Loss: 1888955935.5789\n",
      "Epoch 6100/15000, Loss: 2109668715.7895\n",
      "Epoch 6200/15000, Loss: 1881735096.8421\n",
      "Epoch 6300/15000, Loss: 1954033859.3684\n",
      "Epoch 6400/15000, Loss: 1875684701.2632\n",
      "Epoch 6500/15000, Loss: 1948888222.3158\n",
      "Epoch 6600/15000, Loss: 1869746340.8421\n",
      "Epoch 6700/15000, Loss: 2047383693.4737\n",
      "Epoch 6800/15000, Loss: 1864384386.3158\n",
      "Epoch 6900/15000, Loss: 1861722884.0000\n",
      "Epoch 7000/15000, Loss: 2083109989.0526\n",
      "Epoch 7100/15000, Loss: 1930850506.1053\n",
      "Epoch 7200/15000, Loss: 1999631959.5789\n",
      "Epoch 7300/15000, Loss: 1859819671.5789\n",
      "Epoch 7400/15000, Loss: 1921663501.4737\n",
      "Epoch 7500/15000, Loss: 1917847892.2105\n",
      "Epoch 7600/15000, Loss: 1843477264.4211\n",
      "Epoch 7700/15000, Loss: 1912629837.4737\n",
      "Epoch 7800/15000, Loss: 1838364997.8947\n",
      "Epoch 7900/15000, Loss: 1907150790.7368\n",
      "Epoch 8000/15000, Loss: 1853515040.0000\n",
      "Epoch 8100/15000, Loss: 1903407612.6316\n",
      "Epoch 8200/15000, Loss: 1827574006.5263\n",
      "Epoch 8300/15000, Loss: 1825886869.0526\n",
      "Epoch 8400/15000, Loss: 1964887919.1579\n",
      "Epoch 8500/15000, Loss: 1893371405.4737\n",
      "Epoch 8600/15000, Loss: 2422987991.5789\n",
      "Epoch 8700/15000, Loss: 1889971735.5789\n",
      "Epoch 8800/15000, Loss: 1814013287.5789\n",
      "Epoch 8900/15000, Loss: 1812052652.6316\n",
      "Epoch 9000/15000, Loss: 1877748439.5789\n",
      "Epoch 9100/15000, Loss: 1875122226.5263\n",
      "Epoch 9200/15000, Loss: 1941985098.1053\n",
      "Epoch 9300/15000, Loss: 1961240946.5263\n",
      "Epoch 9400/15000, Loss: 1801313705.2632\n",
      "Epoch 9500/15000, Loss: 1936111184.8421\n",
      "Epoch 9600/15000, Loss: 1967052274.5263\n",
      "Epoch 9700/15000, Loss: 1865158292.2105\n",
      "Epoch 9800/15000, Loss: 1793427546.5263\n",
      "Epoch 9900/15000, Loss: 1932831973.0526\n",
      "Epoch 10000/15000, Loss: 1855988210.5263\n",
      "Epoch 10100/15000, Loss: 1787677754.5263\n",
      "Epoch 10200/15000, Loss: 1921106277.0526\n",
      "Epoch 10300/15000, Loss: 1783722954.9474\n",
      "Epoch 10400/15000, Loss: 1918588416.0000\n",
      "Epoch 10500/15000, Loss: 1780879391.1579\n",
      "Epoch 10600/15000, Loss: 1777648952.4211\n",
      "Epoch 10700/15000, Loss: 1846523321.2632\n",
      "Epoch 10800/15000, Loss: 1986584114.5263\n",
      "Epoch 10900/15000, Loss: 1839164941.4737\n",
      "Epoch 11000/15000, Loss: 1770963727.5789\n",
      "Epoch 11100/15000, Loss: 1908511322.9474\n",
      "Epoch 11200/15000, Loss: 1837125359.1579\n",
      "Epoch 11300/15000, Loss: 1832269473.6842\n",
      "Epoch 11400/15000, Loss: 1931630874.9474\n",
      "Epoch 11500/15000, Loss: 1826455279.1579\n",
      "Epoch 11600/15000, Loss: 1762181509.0526\n",
      "Epoch 11700/15000, Loss: 1760702575.1579\n",
      "Epoch 11800/15000, Loss: 1830263019.7895\n",
      "Epoch 11900/15000, Loss: 1885248414.3158\n",
      "Epoch 12000/15000, Loss: 1757202593.6842\n",
      "Epoch 12100/15000, Loss: 1813057071.1579\n",
      "Epoch 12200/15000, Loss: 1818982804.2105\n",
      "Epoch 12300/15000, Loss: 1816461126.7368\n",
      "Epoch 12400/15000, Loss: 1750746655.1579\n",
      "Epoch 12500/15000, Loss: 1880304242.5263\n",
      "Epoch 12600/15000, Loss: 1810553374.3158\n",
      "Epoch 12700/15000, Loss: 1873627183.1579\n",
      "Epoch 12800/15000, Loss: 1745571112.4211\n",
      "Epoch 12900/15000, Loss: 1952741187.3684\n",
      "Epoch 13000/15000, Loss: 1808994782.3158\n",
      "Epoch 13100/15000, Loss: 2324509217.6842\n",
      "Epoch 13200/15000, Loss: 1802556453.0526\n",
      "Epoch 13300/15000, Loss: 1801285982.3158\n",
      "Epoch 13400/15000, Loss: 1738248877.4737\n",
      "Epoch 13500/15000, Loss: 1737169243.7895\n",
      "Epoch 13600/15000, Loss: 1814574652.6316\n",
      "Epoch 13700/15000, Loss: 1798734298.9474\n",
      "Epoch 13800/15000, Loss: 1735948476.6316\n",
      "Epoch 13900/15000, Loss: 1858873337.2632\n",
      "Epoch 14000/15000, Loss: 1924870069.8947\n",
      "Epoch 14100/15000, Loss: 1853712367.1579\n",
      "Epoch 14200/15000, Loss: 1791334666.1053\n",
      "Epoch 14300/15000, Loss: 1795149928.4211\n",
      "Epoch 14400/15000, Loss: 1730593295.1579\n",
      "Epoch 14500/15000, Loss: 1727945305.2632\n",
      "Epoch 14600/15000, Loss: 1728538273.6842\n",
      "Epoch 14700/15000, Loss: 1727145763.3684\n",
      "Epoch 14800/15000, Loss: 1789148422.7368\n",
      "Epoch 14900/15000, Loss: 1790125999.1579\n",
      "Epoch 15000/15000, Loss: 1720745600.0000\n"
     ]
    }
   ],
   "source": [
    "device = torch.device(\"cuda\" if torch.cuda.is_available() else \"cpu\")\n",
    "print(\"Using device:\", device)\n",
    "\n",
    "input_size = X_train_rnn.shape[2]\n",
    "\n",
    "# number of epochs\n",
    "num_epochs = 15000\n",
    "\n",
    "# initialize model and optimizer\n",
    "model = LSTMRegressor(input_size=input_size, hidden_size=64, num_layers=3, dropout=0.3).to(device)\n",
    "optimizer = torch.optim.Adam(model.parameters(), lr=0.001)\n",
    "criterion = nn.MSELoss()\n",
    "\n",
    "# Train and collect loss per epoch\n",
    "loss_history = train_model(model, train_loader, optimizer, criterion, device, num_epochs=num_epochs)\n",
    "torch.save(model.state_dict(), 'non-hist_rnn_burst_predictor.pth')"
   ]
  },
  {
   "cell_type": "code",
   "execution_count": 86,
   "metadata": {
    "id": "pPeV97Hbko1C"
   },
   "outputs": [],
   "source": [
    "import matplotlib.pyplot as plt\n",
    "plt.rcParams['font.family'] = 'serif'\n",
    "plt.rcParams['font.serif'] = ['Times New Roman'] + plt.rcParams['font.serif']\n",
    "\n",
    "def loss_plot(num_epochs, loss_history):\n",
    "    plt.figure(figsize=(10, 6))\n",
    "    plt.plot(range(1, num_epochs + 1), loss_history)\n",
    "    plt.title(\"Training Loss Curve (MLP)\")\n",
    "    plt.xlabel(\"Epoch\")\n",
    "    plt.ylabel(\"MSE Loss\")\n",
    "    plt.grid(True)\n",
    "    plt.show()"
   ]
  },
  {
   "cell_type": "code",
   "execution_count": 87,
   "metadata": {
    "colab": {
     "base_uri": "https://localhost:8080/",
     "height": 141
    },
    "id": "1ssAQ0OGtyYF",
    "outputId": "8bc728ee-024f-4a43-9265-a845c5f7b390"
   },
   "outputs": [
    {
     "data": {
      "image/png": "[encoded data removed]",
      "text/plain": [
       "<Figure size 1000x600 with 1 Axes>"
      ]
     },
     "metadata": {},
     "output_type": "display_data"
    }
   ],
   "source": [
    "loss_plot(num_epochs, loss_history)"
   ]
  },
  {
   "cell_type": "markdown",
   "metadata": {
    "id": "znKRgvq-nYsY"
   },
   "source": [
    "# **3. Model Evaluation and Prediction**"
   ]
  },
  {
   "cell_type": "markdown",
   "metadata": {},
   "source": [
    "### Load saved model"
   ]
  },
  {
   "cell_type": "code",
   "execution_count": 88,
   "metadata": {},
   "outputs": [],
   "source": [
    "class LSTMRegressor(nn.Module):\n",
    "    def __init__(self, input_size, hidden_size=64, num_layers=3, dropout=0.3):\n",
    "        super(LSTMRegressor, self).__init__()\n",
    "        self.lstm = nn.LSTM(input_size=input_size,\n",
    "                            hidden_size=hidden_size,\n",
    "                            num_layers=num_layers,\n",
    "                            dropout=dropout,\n",
    "                            batch_first=True)\n",
    "        self.fc = nn.Linear(hidden_size, 1)\n",
    "\n",
    "    def forward(self, x):\n",
    "        out, _ = self.lstm(x)          # out: (batch, time_step, hidden_size)\n",
    "        out = out[:, -1, :]            # take output from last time step\n",
    "        return self.fc(out)"
   ]
  },
  {
   "cell_type": "code",
   "execution_count": 89,
   "metadata": {},
   "outputs": [
    {
     "data": {
      "text/plain": [
       "['scaler_X.pkl']"
      ]
     },
     "execution_count": 89,
     "metadata": {},
     "output_type": "execute_result"
    }
   ],
   "source": [
    "from sklearn.preprocessing import MinMaxScaler\n",
    "import joblib  # For saving/loading the scaler\n",
    "\n",
    "# Initialize and fit on training data\n",
    "scaler_X = MinMaxScaler()\n",
    "X_train_scaled = scaler_X.fit_transform(X_train)\n",
    "X_test_scaled = scaler_X.transform(X_test)\n",
    "\n",
    "# Optional: Save scaler for later use\n",
    "joblib.dump(scaler_X, 'scaler_X.pkl')"
   ]
  },
  {
   "cell_type": "code",
   "execution_count": 34,
   "metadata": {},
   "outputs": [],
   "source": [
    "time_steps = 3\n",
    "n_features = X_train_scaled.shape[1]\n",
    "\n",
    "# Trim training data\n",
    "trim = X_train_scaled.shape[0] % time_steps\n",
    "if trim != 0:\n",
    "    X_train_scaled = X_train_scaled[:-trim]\n",
    "    y_train = y_train[:-trim]\n",
    "\n",
    "X_train_rnn = X_train_scaled.reshape(-1, time_steps, n_features)\n",
    "\n",
    "# Trim and reshape test data\n",
    "trim_test = X_test_scaled.shape[0] % time_steps\n",
    "if trim_test != 0:\n",
    "    X_test_scaled = X_test_scaled[:-trim_test]\n",
    "    y_test = y_test[:-trim_test]\n",
    "\n",
    "X_test_rnn = X_test_scaled.reshape(-1, time_steps, n_features)"
   ]
  },
  {
   "cell_type": "code",
   "execution_count": 46,
   "metadata": {},
   "outputs": [
    {
     "data": {
      "text/plain": [
       "LSTMRegressor(\n",
       "  (lstm): LSTM(5, 64, num_layers=3, batch_first=True, dropout=0.3)\n",
       "  (fc): Linear(in_features=64, out_features=1, bias=True)\n",
       ")"
      ]
     },
     "execution_count": 46,
     "metadata": {},
     "output_type": "execute_result"
    }
   ],
   "source": [
    "# Match input size\n",
    "input_size = n_features  # typically 5 in your case\n",
    "\n",
    "# Load model\n",
    "model = LSTMRegressor(input_size=input_size)\n",
    "model.load_state_dict(torch.load('non-hist_rnn_burst_predictor.pth'))\n",
    "\n",
    "# Set device\n",
    "device = torch.device(\"cuda\" if torch.cuda.is_available() else \"cpu\")\n",
    "model.to(device)\n",
    "model.eval()"
   ]
  },
  {
   "cell_type": "code",
   "execution_count": 91,
   "metadata": {},
   "outputs": [],
   "source": [
    "# Convert test data to tensor\n",
    "X_tensor = torch.tensor(X_test_rnn, dtype=torch.float32).to(device)\n",
    "\n",
    "# Predict\n",
    "with torch.no_grad():\n",
    "    y_pred = model(X_tensor)  # shape: (num_samples, 1)\n",
    "\n",
    "# If needed: move to CPU and convert to NumPy\n",
    "y_pred_np = y_pred.cpu().numpy()"
   ]
  },
  {
   "cell_type": "markdown",
   "metadata": {
    "id": "b_uVumkBnj9q"
   },
   "source": [
    "## **3.1: Evaluation metrics**"
   ]
  },
  {
   "cell_type": "code",
   "execution_count": 92,
   "metadata": {
    "colab": {
     "base_uri": "https://localhost:8080/"
    },
    "id": "tPdY90_Ul_UO",
    "outputId": "00ee34eb-b916-4cf6-8932-37ab29b99eb7"
   },
   "outputs": [
    {
     "name": "stdout",
     "output_type": "stream",
     "text": [
      "Evaluation Metrics:\n",
      "MAE: 23638.5371\n",
      "R2: -0.0062\n",
      "CC: nan\n",
      "RAE (%): 95.3304\n"
     ]
    },
    {
     "name": "stderr",
     "output_type": "stream",
     "text": [
      "/home/nsriad/miniconda3/lib/python3.12/site-packages/numpy/lib/_function_base_impl.py:3045: RuntimeWarning: invalid value encountered in divide\n",
      "  c /= stddev[:, None]\n",
      "/home/nsriad/miniconda3/lib/python3.12/site-packages/numpy/lib/_function_base_impl.py:3046: RuntimeWarning: invalid value encountered in divide\n",
      "  c /= stddev[None, :]\n"
     ]
    }
   ],
   "source": [
    "# y_test must be a numpy array or torch tensor (already flattened)\n",
    "results = evaluate_model(model, test_loader, y_test_seq, device)\n",
    "\n",
    "# Print results\n",
    "print(\"Evaluation Metrics:\")\n",
    "for k, v in results.items():\n",
    "    print(f\"{k}: {v:.4f}\")"
   ]
  },
  {
   "cell_type": "markdown",
   "metadata": {
    "id": "hetvEovunp2m"
   },
   "source": [
    "## **3.2: Prediction**"
   ]
  },
  {
   "cell_type": "code",
   "execution_count": 93,
   "metadata": {
    "id": "DWpAj0vNnsyV"
   },
   "outputs": [],
   "source": [
    "model.eval()\n",
    "predictions = []\n",
    "\n",
    "with torch.no_grad():\n",
    "    for X_batch, _ in test_loader:\n",
    "        X_batch = X_batch.to(device)\n",
    "        y_pred = model(X_batch)\n",
    "        predictions.append(y_pred.cpu().numpy())\n",
    "\n",
    "# Flatten into one array\n",
    "y_pred = np.vstack(predictions).flatten()"
   ]
  },
  {
   "cell_type": "code",
   "execution_count": 94,
   "metadata": {
    "id": "D077MfxDnvuf"
   },
   "outputs": [],
   "source": [
    "# Convert true y values to a flat array if not already\n",
    "y_true = y_test.values.flatten()"
   ]
  },
  {
   "cell_type": "code",
   "execution_count": 95,
   "metadata": {
    "colab": {
     "base_uri": "https://localhost:8080/",
     "height": 677
    },
    "id": "wCbSHxl6nxpd",
    "outputId": "5ba80b4c-276c-4861-9e81-7306485b0194"
   },
   "outputs": [
    {
     "data": {
      "text/html": [
       "<div>\n",
       "<style scoped>\n",
       "    .dataframe tbody tr th:only-of-type {\n",
       "        vertical-align: middle;\n",
       "    }\n",
       "\n",
       "    .dataframe tbody tr th {\n",
       "        vertical-align: top;\n",
       "    }\n",
       "\n",
       "    .dataframe thead th {\n",
       "        text-align: right;\n",
       "    }\n",
       "</style>\n",
       "<table border=\"1\" class=\"dataframe\">\n",
       "  <thead>\n",
       "    <tr style=\"text-align: right;\">\n",
       "      <th></th>\n",
       "      <th>Actual (RunTime)</th>\n",
       "      <th>Predicted (RunTime)</th>\n",
       "    </tr>\n",
       "  </thead>\n",
       "  <tbody>\n",
       "    <tr>\n",
       "      <th>0</th>\n",
       "      <td>20282</td>\n",
       "      <td>15840.580078</td>\n",
       "    </tr>\n",
       "    <tr>\n",
       "      <th>1</th>\n",
       "      <td>14</td>\n",
       "      <td>15840.580078</td>\n",
       "    </tr>\n",
       "    <tr>\n",
       "      <th>2</th>\n",
       "      <td>20642</td>\n",
       "      <td>15840.580078</td>\n",
       "    </tr>\n",
       "    <tr>\n",
       "      <th>3</th>\n",
       "      <td>19709</td>\n",
       "      <td>15840.580078</td>\n",
       "    </tr>\n",
       "    <tr>\n",
       "      <th>4</th>\n",
       "      <td>28</td>\n",
       "      <td>15840.580078</td>\n",
       "    </tr>\n",
       "    <tr>\n",
       "      <th>5</th>\n",
       "      <td>20914</td>\n",
       "      <td>15840.580078</td>\n",
       "    </tr>\n",
       "    <tr>\n",
       "      <th>6</th>\n",
       "      <td>20694</td>\n",
       "      <td>15840.580078</td>\n",
       "    </tr>\n",
       "    <tr>\n",
       "      <th>7</th>\n",
       "      <td>20327</td>\n",
       "      <td>15840.580078</td>\n",
       "    </tr>\n",
       "    <tr>\n",
       "      <th>8</th>\n",
       "      <td>19883</td>\n",
       "      <td>15840.580078</td>\n",
       "    </tr>\n",
       "    <tr>\n",
       "      <th>9</th>\n",
       "      <td>41</td>\n",
       "      <td>15840.580078</td>\n",
       "    </tr>\n",
       "    <tr>\n",
       "      <th>10</th>\n",
       "      <td>20</td>\n",
       "      <td>15840.580078</td>\n",
       "    </tr>\n",
       "    <tr>\n",
       "      <th>11</th>\n",
       "      <td>12</td>\n",
       "      <td>15840.580078</td>\n",
       "    </tr>\n",
       "    <tr>\n",
       "      <th>12</th>\n",
       "      <td>20</td>\n",
       "      <td>15840.580078</td>\n",
       "    </tr>\n",
       "    <tr>\n",
       "      <th>13</th>\n",
       "      <td>19</td>\n",
       "      <td>15840.580078</td>\n",
       "    </tr>\n",
       "    <tr>\n",
       "      <th>14</th>\n",
       "      <td>18</td>\n",
       "      <td>15840.580078</td>\n",
       "    </tr>\n",
       "    <tr>\n",
       "      <th>15</th>\n",
       "      <td>13</td>\n",
       "      <td>15840.580078</td>\n",
       "    </tr>\n",
       "    <tr>\n",
       "      <th>16</th>\n",
       "      <td>12</td>\n",
       "      <td>15840.580078</td>\n",
       "    </tr>\n",
       "    <tr>\n",
       "      <th>17</th>\n",
       "      <td>60</td>\n",
       "      <td>15840.580078</td>\n",
       "    </tr>\n",
       "    <tr>\n",
       "      <th>18</th>\n",
       "      <td>18</td>\n",
       "      <td>15840.580078</td>\n",
       "    </tr>\n",
       "    <tr>\n",
       "      <th>19</th>\n",
       "      <td>20</td>\n",
       "      <td>15840.580078</td>\n",
       "    </tr>\n",
       "  </tbody>\n",
       "</table>\n",
       "</div>"
      ],
      "text/plain": [
       "    Actual (RunTime)  Predicted (RunTime)\n",
       "0              20282         15840.580078\n",
       "1                 14         15840.580078\n",
       "2              20642         15840.580078\n",
       "3              19709         15840.580078\n",
       "4                 28         15840.580078\n",
       "5              20914         15840.580078\n",
       "6              20694         15840.580078\n",
       "7              20327         15840.580078\n",
       "8              19883         15840.580078\n",
       "9                 41         15840.580078\n",
       "10                20         15840.580078\n",
       "11                12         15840.580078\n",
       "12                20         15840.580078\n",
       "13                19         15840.580078\n",
       "14                18         15840.580078\n",
       "15                13         15840.580078\n",
       "16                12         15840.580078\n",
       "17                60         15840.580078\n",
       "18                18         15840.580078\n",
       "19                20         15840.580078"
      ]
     },
     "execution_count": 95,
     "metadata": {},
     "output_type": "execute_result"
    }
   ],
   "source": [
    "# Show a few examples\n",
    "import pandas as pd\n",
    "\n",
    "comparison_df = pd.DataFrame({\n",
    "    \"Actual (RunTime)\": y_true[20:40],\n",
    "    \"Predicted (RunTime)\": y_pred[20:40]\n",
    "})\n",
    "\n",
    "# Round for cleaner display\n",
    "comparison_df = comparison_df.round(2)\n",
    "\n",
    "# Display as table\n",
    "comparison_df"
   ]
  },
  {
   "cell_type": "code",
   "execution_count": 7,
   "metadata": {
    "id": "LnRcUBEj8Dpy"
   },
   "outputs": [],
   "source": [
    "def plot_mlp_predictions(model, dataloader, y_test_raw, device, title=\"MLP\"):\n",
    "    model.eval()\n",
    "    preds = []\n",
    "\n",
    "    with torch.no_grad():\n",
    "        for X_batch, _ in dataloader:\n",
    "            X_batch = X_batch.to(device)\n",
    "            y_pred = model(X_batch)\n",
    "            preds.append(y_pred.cpu().numpy())\n",
    "\n",
    "    y_pred = np.vstack(preds).flatten()\n",
    "    y_true = y_test_raw.values.flatten()\n",
    "\n",
    "    # Plot\n",
    "    plt.figure(figsize=(8, 6))\n",
    "    plt.scatter(y_true, y_pred, alpha=0.5)\n",
    "    plt.plot([y_true.min(), y_true.max()], [y_true.min(), y_true.max()],\n",
    "             'r--', label='Perfect Prediction')\n",
    "    plt.xlabel(\"Actual RunTime\")\n",
    "    plt.ylabel(\"Predicted RunTime\")\n",
    "    plt.title(f\"{title} - Actual vs Predicted\")\n",
    "    plt.legend()\n",
    "    plt.grid(True)\n",
    "    plt.show()\n"
   ]
  },
  {
   "cell_type": "code",
   "execution_count": null,
   "metadata": {
    "colab": {
     "base_uri": "https://localhost:8080/",
     "height": 563
    },
    "id": "wfksUY9b8Kke",
    "outputId": "0caf5ed0-1adc-4f07-e64e-50ca23b22b84"
   },
   "outputs": [],
   "source": [
    "plot_mlp_predictions(model, test_loader, y_test, device, title=\"MLP Regressor\")"
   ]
  },
  {
   "cell_type": "code",
   "execution_count": null,
   "metadata": {},
   "outputs": [],
   "source": []
  },
  {
   "cell_type": "code",
   "execution_count": null,
   "metadata": {},
   "outputs": [],
   "source": []
  },
  {
   "cell_type": "code",
   "execution_count": null,
   "metadata": {},
   "outputs": [],
   "source": []
  },
  {
   "cell_type": "code",
   "execution_count": null,
   "metadata": {},
   "outputs": [],
   "source": []
  }
 ],
 "metadata": {
  "colab": {
   "provenance": []
  },
  "kernelspec": {
   "display_name": "base",
   "language": "python",
   "name": "python3"
  },
  "language_info": {
   "codemirror_mode": {
    "name": "ipython",
    "version": 3
   },
   "file_extension": ".py",
   "mimetype": "text/x-python",
   "name": "python",
   "nbconvert_exporter": "python",
   "pygments_lexer": "ipython3",
   "version": "3.12.2"
  }
 },
 "nbformat": 4,
 "nbformat_minor": 1
}
