{
  "cells": [
    {
      "cell_type": "markdown",
      "metadata": {
        "id": "B0QLmjMWEdKO"
      },
      "source": [
        "# **1. Load and Explore the Dataset**"
      ]
    },
    {
      "cell_type": "markdown",
      "metadata": {
        "id": "RsBBIdPaEuvU"
      },
      "source": [
        "## **1.1 Load Required Libraries**"
      ]
    },
    {
      "cell_type": "code",
      "execution_count": 1,
      "metadata": {
        "id": "q8h4L53y5uUV"
      },
      "outputs": [],
      "source": [
        "import pandas as pd\n",
        "import numpy as np\n",
        "import matplotlib.pyplot as plt\n",
        "import seaborn as sns\n",
        "from sklearn.model_selection import train_test_split\n",
        "from sklearn.preprocessing import LabelEncoder\n",
        "from sklearn.metrics import mean_absolute_error, r2_score\n",
        "import torch\n",
        "import torch.nn as nn\n",
        "from torch.utils.data import Dataset, DataLoader"
      ]
    },
    {
      "cell_type": "markdown",
      "metadata": {
        "id": "mZ9zrRboEyNc"
      },
      "source": [
        "## **1.2: Load First 5000 Rows of Dataset**"
      ]
    },
    {
      "cell_type": "code",
      "execution_count": 2,
      "metadata": {
        "colab": {
          "base_uri": "https://localhost:8080/",
          "height": 290
        },
        "id": "PUhAVrHVErrO",
        "outputId": "a18929ca-39e9-4e8c-d3b5-5d70e62d4c1e"
      },
      "outputs": [
        {
          "name": "stdout",
          "output_type": "stream",
          "text": [
            "Shape: (404176, 29)\n"
          ]
        },
        {
          "data": {
            "text/html": [
              "<div>\n",
              "<style scoped>\n",
              "    .dataframe tbody tr th:only-of-type {\n",
              "        vertical-align: middle;\n",
              "    }\n",
              "\n",
              "    .dataframe tbody tr th {\n",
              "        vertical-align: top;\n",
              "    }\n",
              "\n",
              "    .dataframe thead th {\n",
              "        text-align: right;\n",
              "    }\n",
              "</style>\n",
              "<table border=\"1\" class=\"dataframe\">\n",
              "  <thead>\n",
              "    <tr style=\"text-align: right;\">\n",
              "      <th></th>\n",
              "      <th>JobID</th>\n",
              "      <th>SubmitTime</th>\n",
              "      <th>WaitTime</th>\n",
              "      <th>RunTime</th>\n",
              "      <th>NProcs</th>\n",
              "      <th>AverageCPUTimeUsed</th>\n",
              "      <th>Used Memory</th>\n",
              "      <th>ReqNProcs</th>\n",
              "      <th>ReqTime:</th>\n",
              "      <th>ReqMemory</th>\n",
              "      <th>...</th>\n",
              "      <th>JobStructureParams</th>\n",
              "      <th>UsedNetwork</th>\n",
              "      <th>UsedLocalDiskSpace</th>\n",
              "      <th>UsedResources</th>\n",
              "      <th>ReqPlatform</th>\n",
              "      <th>ReqNetwork</th>\n",
              "      <th>ReqLocalDiskSpace</th>\n",
              "      <th>ReqResources</th>\n",
              "      <th>VOID</th>\n",
              "      <th>ProjectID</th>\n",
              "    </tr>\n",
              "  </thead>\n",
              "  <tbody>\n",
              "    <tr>\n",
              "      <th>0</th>\n",
              "      <td>1</td>\n",
              "      <td>1136070024</td>\n",
              "      <td>203761</td>\n",
              "      <td>138467</td>\n",
              "      <td>1</td>\n",
              "      <td>138371</td>\n",
              "      <td>98652</td>\n",
              "      <td>1</td>\n",
              "      <td>259200</td>\n",
              "      <td>-1</td>\n",
              "      <td>...</td>\n",
              "      <td>-1</td>\n",
              "      <td>-1</td>\n",
              "      <td>-1</td>\n",
              "      <td>-1</td>\n",
              "      <td>-1</td>\n",
              "      <td>-1</td>\n",
              "      <td>-1</td>\n",
              "      <td>-1</td>\n",
              "      <td>-1</td>\n",
              "      <td>-1</td>\n",
              "    </tr>\n",
              "    <tr>\n",
              "      <th>1</th>\n",
              "      <td>2</td>\n",
              "      <td>1136070690</td>\n",
              "      <td>0</td>\n",
              "      <td>11</td>\n",
              "      <td>1</td>\n",
              "      <td>4</td>\n",
              "      <td>35848</td>\n",
              "      <td>1</td>\n",
              "      <td>259200</td>\n",
              "      <td>-1</td>\n",
              "      <td>...</td>\n",
              "      <td>-1</td>\n",
              "      <td>-1</td>\n",
              "      <td>-1</td>\n",
              "      <td>-1</td>\n",
              "      <td>-1</td>\n",
              "      <td>-1</td>\n",
              "      <td>-1</td>\n",
              "      <td>-1</td>\n",
              "      <td>-1</td>\n",
              "      <td>-1</td>\n",
              "    </tr>\n",
              "    <tr>\n",
              "      <th>2</th>\n",
              "      <td>3</td>\n",
              "      <td>1136071207</td>\n",
              "      <td>117</td>\n",
              "      <td>201203</td>\n",
              "      <td>1</td>\n",
              "      <td>0</td>\n",
              "      <td>0</td>\n",
              "      <td>1</td>\n",
              "      <td>259200</td>\n",
              "      <td>-1</td>\n",
              "      <td>...</td>\n",
              "      <td>-1</td>\n",
              "      <td>-1</td>\n",
              "      <td>-1</td>\n",
              "      <td>-1</td>\n",
              "      <td>-1</td>\n",
              "      <td>-1</td>\n",
              "      <td>-1</td>\n",
              "      <td>-1</td>\n",
              "      <td>-1</td>\n",
              "      <td>-1</td>\n",
              "    </tr>\n",
              "    <tr>\n",
              "      <th>3</th>\n",
              "      <td>4</td>\n",
              "      <td>1136071267</td>\n",
              "      <td>4406</td>\n",
              "      <td>196985</td>\n",
              "      <td>1</td>\n",
              "      <td>0</td>\n",
              "      <td>0</td>\n",
              "      <td>1</td>\n",
              "      <td>259200</td>\n",
              "      <td>-1</td>\n",
              "      <td>...</td>\n",
              "      <td>-1</td>\n",
              "      <td>-1</td>\n",
              "      <td>-1</td>\n",
              "      <td>-1</td>\n",
              "      <td>-1</td>\n",
              "      <td>-1</td>\n",
              "      <td>-1</td>\n",
              "      <td>-1</td>\n",
              "      <td>-1</td>\n",
              "      <td>-1</td>\n",
              "    </tr>\n",
              "    <tr>\n",
              "      <th>4</th>\n",
              "      <td>5</td>\n",
              "      <td>1136071269</td>\n",
              "      <td>202516</td>\n",
              "      <td>19520</td>\n",
              "      <td>1</td>\n",
              "      <td>18731</td>\n",
              "      <td>522268</td>\n",
              "      <td>1</td>\n",
              "      <td>259200</td>\n",
              "      <td>-1</td>\n",
              "      <td>...</td>\n",
              "      <td>-1</td>\n",
              "      <td>-1</td>\n",
              "      <td>-1</td>\n",
              "      <td>-1</td>\n",
              "      <td>-1</td>\n",
              "      <td>-1</td>\n",
              "      <td>-1</td>\n",
              "      <td>-1</td>\n",
              "      <td>-1</td>\n",
              "      <td>-1</td>\n",
              "    </tr>\n",
              "  </tbody>\n",
              "</table>\n",
              "<p>5 rows × 29 columns</p>\n",
              "</div>"
            ],
            "text/plain": [
              "   JobID  SubmitTime  WaitTime  RunTime   NProcs  AverageCPUTimeUsed  \\\n",
              "0      1  1136070024    203761    138467       1              138371   \n",
              "1      2  1136070690         0        11       1                   4   \n",
              "2      3  1136071207       117    201203       1                   0   \n",
              "3      4  1136071267      4406    196985       1                   0   \n",
              "4      5  1136071269    202516     19520       1               18731   \n",
              "\n",
              "   Used Memory  ReqNProcs  ReqTime:   ReqMemory  ...  JobStructureParams  \\\n",
              "0        98652          1     259200         -1  ...                  -1   \n",
              "1        35848          1     259200         -1  ...                  -1   \n",
              "2            0          1     259200         -1  ...                  -1   \n",
              "3            0          1     259200         -1  ...                  -1   \n",
              "4       522268          1     259200         -1  ...                  -1   \n",
              "\n",
              "  UsedNetwork UsedLocalDiskSpace UsedResources ReqPlatform  ReqNetwork  \\\n",
              "0          -1                 -1            -1          -1          -1   \n",
              "1          -1                 -1            -1          -1          -1   \n",
              "2          -1                 -1            -1          -1          -1   \n",
              "3          -1                 -1            -1          -1          -1   \n",
              "4          -1                 -1            -1          -1          -1   \n",
              "\n",
              "  ReqLocalDiskSpace ReqResources  VOID  ProjectID  \n",
              "0                -1           -1    -1         -1  \n",
              "1                -1           -1    -1         -1  \n",
              "2                -1           -1    -1         -1  \n",
              "3                -1           -1    -1         -1  \n",
              "4                -1           -1    -1         -1  \n",
              "\n",
              "[5 rows x 29 columns]"
            ]
          },
          "execution_count": 2,
          "metadata": {},
          "output_type": "execute_result"
        }
      ],
      "source": [
        "df = pd.read_csv('/media/nsriad/Documents/UAH/Spring 25/OS-Lawrence/Project/Code/processes_datasets.csv')\n",
        "print(\"Shape:\", df.shape)\n",
        "df.head()"
      ]
    },
    {
      "cell_type": "code",
      "execution_count": 3,
      "metadata": {
        "colab": {
          "base_uri": "https://localhost:8080/"
        },
        "id": "FEnsuvxxFKt3",
        "outputId": "97589415-d6f7-4750-91a2-f86883db34b9"
      },
      "outputs": [
        {
          "name": "stdout",
          "output_type": "stream",
          "text": [
            "<class 'pandas.core.frame.DataFrame'>\n",
            "RangeIndex: 404176 entries, 0 to 404175\n",
            "Data columns (total 29 columns):\n",
            " #   Column              Non-Null Count   Dtype \n",
            "---  ------              --------------   ----- \n",
            " 0   JobID               404176 non-null  int64 \n",
            " 1   SubmitTime          404176 non-null  int64 \n",
            " 2   WaitTime            404176 non-null  int64 \n",
            " 3   RunTime             404176 non-null  int64 \n",
            " 4   NProcs              404176 non-null  int64 \n",
            " 5   AverageCPUTimeUsed  404176 non-null  int64 \n",
            " 6   Used Memory         404176 non-null  int64 \n",
            " 7   ReqNProcs           404176 non-null  int64 \n",
            " 8   ReqTime:            404176 non-null  int64 \n",
            " 9   ReqMemory           404176 non-null  int64 \n",
            " 10  Status              404176 non-null  int64 \n",
            " 11  UserID              404176 non-null  object\n",
            " 12  GroupID             404176 non-null  object\n",
            " 13  ExecutableID        404176 non-null  object\n",
            " 14  QueueID             404176 non-null  object\n",
            " 15  PartitionID         404176 non-null  int64 \n",
            " 16  OrigSiteID          404176 non-null  object\n",
            " 17  LastRunSiteID       404176 non-null  object\n",
            " 18  JobStructure        404176 non-null  int64 \n",
            " 19  JobStructureParams  404176 non-null  int64 \n",
            " 20  UsedNetwork         404176 non-null  int64 \n",
            " 21  UsedLocalDiskSpace  404176 non-null  int64 \n",
            " 22  UsedResources       404176 non-null  int64 \n",
            " 23  ReqPlatform         404176 non-null  int64 \n",
            " 24  ReqNetwork          404176 non-null  int64 \n",
            " 25  ReqLocalDiskSpace   404176 non-null  int64 \n",
            " 26  ReqResources        404176 non-null  int64 \n",
            " 27  VOID                404176 non-null  int64 \n",
            " 28  ProjectID           404176 non-null  int64 \n",
            "dtypes: int64(23), object(6)\n",
            "memory usage: 89.4+ MB\n"
          ]
        }
      ],
      "source": [
        "df.info()"
      ]
    },
    {
      "cell_type": "code",
      "execution_count": 4,
      "metadata": {
        "colab": {
          "base_uri": "https://localhost:8080/"
        },
        "id": "OYGtRIsjFUgt",
        "outputId": "0e1269f6-b559-4e17-8ee0-ccf792cf7e59"
      },
      "outputs": [
        {
          "data": {
            "text/plain": [
              "Index(['JobID', 'SubmitTime', 'WaitTime', 'RunTime ', 'NProcs',\n",
              "       'AverageCPUTimeUsed', 'Used Memory', 'ReqNProcs', 'ReqTime: ',\n",
              "       'ReqMemory', 'Status', 'UserID', 'GroupID', 'ExecutableID', 'QueueID',\n",
              "       'PartitionID', 'OrigSiteID', 'LastRunSiteID', 'JobStructure',\n",
              "       'JobStructureParams', 'UsedNetwork', 'UsedLocalDiskSpace',\n",
              "       'UsedResources', 'ReqPlatform', 'ReqNetwork', 'ReqLocalDiskSpace',\n",
              "       'ReqResources', 'VOID', 'ProjectID'],\n",
              "      dtype='object')"
            ]
          },
          "execution_count": 4,
          "metadata": {},
          "output_type": "execute_result"
        }
      ],
      "source": [
        "df.columns"
      ]
    },
    {
      "cell_type": "markdown",
      "metadata": {
        "id": "vOw1jQPnFb35"
      },
      "source": [
        "## **1.3: Drop Columns with All -1**"
      ]
    },
    {
      "cell_type": "code",
      "execution_count": 5,
      "metadata": {
        "colab": {
          "base_uri": "https://localhost:8080/"
        },
        "id": "C_PDA8zyFaAV",
        "outputId": "f5628b43-2a9e-49df-f839-8eb3dfd1aafd"
      },
      "outputs": [
        {
          "name": "stdout",
          "output_type": "stream",
          "text": [
            "Columns retained: ['JobID', 'SubmitTime', 'WaitTime', 'RunTime ', 'NProcs', 'AverageCPUTimeUsed', 'Used Memory', 'ReqNProcs', 'ReqTime: ', 'ReqMemory', 'Status', 'UserID', 'GroupID', 'ExecutableID', 'QueueID', 'PartitionID', 'OrigSiteID', 'LastRunSiteID']\n",
            "Shape: (404176, 18)\n"
          ]
        }
      ],
      "source": [
        "# Drop columns where all values are -1 (last 11 attributes)\n",
        "df_filtered = df.loc[:, (df != -1).any(axis=0)]\n",
        "print(\"Columns retained:\", df_filtered.columns.tolist())\n",
        "print(\"Shape:\", df_filtered.shape)"
      ]
    },
    {
      "cell_type": "markdown",
      "metadata": {
        "id": "myNEDMG8M70k"
      },
      "source": [
        "## **1.4 Drop columns containing IDs**"
      ]
    },
    {
      "cell_type": "code",
      "execution_count": 6,
      "metadata": {
        "colab": {
          "base_uri": "https://localhost:8080/"
        },
        "id": "dbhkFn6_NQBx",
        "outputId": "6a2fc26e-4ac6-4321-b9ba-966718eac136"
      },
      "outputs": [
        {
          "name": "stdout",
          "output_type": "stream",
          "text": [
            "Shape: (404176, 10)\n"
          ]
        },
        {
          "name": "stderr",
          "output_type": "stream",
          "text": [
            "/tmp/ipykernel_21735/3821454813.py:5: SettingWithCopyWarning: \n",
            "A value is trying to be set on a copy of a slice from a DataFrame\n",
            "\n",
            "See the caveats in the documentation: https://pandas.pydata.org/pandas-docs/stable/user_guide/indexing.html#returning-a-view-versus-a-copy\n",
            "  df_filtered.drop(columns=[col for col in columns_to_drop if col in df_filtered.columns], inplace=True)\n"
          ]
        }
      ],
      "source": [
        "columns_to_drop = [\n",
        "    'JobID', 'UserID', 'GroupID', 'QueueID',\n",
        "    'ExecutableID', 'PartitionID', 'OrigSiteID', 'LastRunSiteID'\n",
        "]\n",
        "df_filtered.drop(columns=[col for col in columns_to_drop if col in df_filtered.columns], inplace=True)\n",
        "print(\"Shape:\", df_filtered.shape)"
      ]
    },
    {
      "cell_type": "code",
      "execution_count": 7,
      "metadata": {
        "colab": {
          "base_uri": "https://localhost:8080/"
        },
        "id": "mqRNvjEyOBAZ",
        "outputId": "cbfb7bff-dd73-43e3-d607-e34d95098aea"
      },
      "outputs": [
        {
          "data": {
            "text/plain": [
              "Index(['SubmitTime', 'WaitTime', 'RunTime ', 'NProcs', 'AverageCPUTimeUsed',\n",
              "       'Used Memory', 'ReqNProcs', 'ReqTime: ', 'ReqMemory', 'Status'],\n",
              "      dtype='object')"
            ]
          },
          "execution_count": 7,
          "metadata": {},
          "output_type": "execute_result"
        }
      ],
      "source": [
        "df_filtered.columns"
      ]
    },
    {
      "cell_type": "code",
      "execution_count": 8,
      "metadata": {
        "colab": {
          "base_uri": "https://localhost:8080/"
        },
        "id": "TXuYiG1jTPuE",
        "outputId": "1bfad668-ad2c-4adb-aa23-242de06b1382"
      },
      "outputs": [
        {
          "name": "stdout",
          "output_type": "stream",
          "text": [
            "Shape: (5000, 10)\n"
          ]
        }
      ],
      "source": [
        "# using first 5000 datatpoints\n",
        "df_filtered = df_filtered.head(5000)\n",
        "print(\"Shape:\", df_filtered.shape)"
      ]
    },
    {
      "cell_type": "code",
      "execution_count": 9,
      "metadata": {
        "colab": {
          "base_uri": "https://localhost:8080/"
        },
        "id": "PWd62Dlithja",
        "outputId": "72d9aa7c-4ce0-4206-b2a5-59f53e32af6d"
      },
      "outputs": [
        {
          "name": "stdout",
          "output_type": "stream",
          "text": [
            "Shape: (4340, 10)\n"
          ]
        }
      ],
      "source": [
        "# exclude process with no burst time i.e., -1\n",
        "df_filtered = df_filtered[df_filtered['RunTime '] != -1]\n",
        "print(\"Shape:\", df_filtered.shape)"
      ]
    },
    {
      "cell_type": "markdown",
      "metadata": {
        "id": "H8OA1nW-R0uq"
      },
      "source": [
        "## **1.5 Split dataset**"
      ]
    },
    {
      "cell_type": "code",
      "execution_count": 10,
      "metadata": {
        "id": "seuwYv9yR7Sd"
      },
      "outputs": [],
      "source": [
        "# Target\n",
        "y = df_filtered['RunTime ']\n",
        "\n",
        "# Features\n",
        "X = df_filtered.drop(columns=['RunTime '])\n",
        "\n",
        "# Split\n",
        "X_train, X_test, y_train, y_test = train_test_split(X, y, test_size=0.2, random_state=42)"
      ]
    },
    {
      "cell_type": "code",
      "execution_count": 11,
      "metadata": {
        "colab": {
          "base_uri": "https://localhost:8080/"
        },
        "id": "IAIWprAiTleS",
        "outputId": "2f301c63-f330-4e88-8ae9-7574bdd471bd"
      },
      "outputs": [
        {
          "name": "stdout",
          "output_type": "stream",
          "text": [
            "X_train shape: (3472, 9)\n",
            "y_train shape: (3472,)\n",
            "X_test shape: (868, 9)\n",
            "y_test shape: (868,)\n"
          ]
        }
      ],
      "source": [
        "print(\"X_train shape:\", X_train.shape)\n",
        "print(\"y_train shape:\", y_train.shape)\n",
        "print(\"X_test shape:\", X_test.shape)\n",
        "print(\"y_test shape:\", y_test.shape)"
      ]
    },
    {
      "cell_type": "markdown",
      "metadata": {
        "id": "EW39CRyPi2zr"
      },
      "source": [
        "## **1.6: Normalize data**"
      ]
    },
    {
      "cell_type": "code",
      "execution_count": 12,
      "metadata": {
        "id": "1gYnqsapi7oc"
      },
      "outputs": [],
      "source": [
        "from sklearn.preprocessing import MinMaxScaler\n",
        "\n",
        "# Normalize minmax\n",
        "scaler_X = MinMaxScaler()\n",
        "X_train = scaler_X.fit_transform(X_train)\n",
        "X_test = scaler_X.transform(X_test)"
      ]
    },
    {
      "cell_type": "markdown",
      "metadata": {
        "id": "GOPJ7o06MF8C"
      },
      "source": [
        "# **2. Train MLP Regressor on Filtered Data**"
      ]
    },
    {
      "cell_type": "markdown",
      "metadata": {
        "id": "WVAIVNcKMNj7"
      },
      "source": [
        "## **2.1: Define Dataset and DataLoaders**"
      ]
    },
    {
      "cell_type": "code",
      "execution_count": 13,
      "metadata": {
        "id": "rxHbUWGtMJEG"
      },
      "outputs": [],
      "source": [
        "import torch\n",
        "from torch.utils.data import Dataset, DataLoader\n",
        "\n",
        "# Custom dataset class\n",
        "class ProcessDataset(Dataset):\n",
        "    def __init__(self, X, y):\n",
        "        self.X = torch.tensor(X, dtype=torch.float32)\n",
        "        self.y = torch.tensor(y.to_numpy(), dtype=torch.float32).view(-1, 1)\n",
        "\n",
        "    def __len__(self):\n",
        "        return len(self.X)\n",
        "\n",
        "    def __getitem__(self, idx):\n",
        "        return self.X[idx], self.y[idx]\n",
        "\n",
        "# Create datasets and loaders\n",
        "train_ds = ProcessDataset(X_train, y_train)\n",
        "test_ds = ProcessDataset(X_test, y_test)\n",
        "\n",
        "train_loader = DataLoader(train_ds, batch_size=64, shuffle=True)\n",
        "test_loader = DataLoader(test_ds, batch_size=64)"
      ]
    },
    {
      "cell_type": "markdown",
      "metadata": {
        "id": "Mbpmds9shHk7"
      },
      "source": [
        "## **2.2: Define the MLP Regressor in PyTorch**"
      ]
    },
    {
      "cell_type": "code",
      "execution_count": 14,
      "metadata": {
        "id": "QLhcx9P7hN3F"
      },
      "outputs": [],
      "source": [
        "class MLPRegressor(nn.Module):\n",
        "    def __init__(self, input_size):\n",
        "        super(MLPRegressor, self).__init__()\n",
        "        self.model = nn.Sequential(\n",
        "            nn.Linear(input_size, 128),\n",
        "            nn.ReLU(),\n",
        "            nn.Linear(128, 64),\n",
        "            nn.ReLU(),\n",
        "            nn.Linear(64, 32),\n",
        "            nn.ReLU(),\n",
        "            nn.Linear(32, 16),\n",
        "            nn.ReLU(),\n",
        "            nn.Linear(16, 1),\n",
        "            nn.ReLU()\n",
        "        )\n",
        "\n",
        "    def forward(self, x):\n",
        "        return self.model(x)"
      ]
    },
    {
      "cell_type": "markdown",
      "metadata": {
        "id": "r3CiiRiBhRVZ"
      },
      "source": [
        "## **2.3: Training Function**"
      ]
    },
    {
      "cell_type": "code",
      "execution_count": 15,
      "metadata": {
        "id": "5n7hj3MUhQEe"
      },
      "outputs": [],
      "source": [
        "def train_model(model, dataloader, optimizer, criterion, device, num_epochs=50):\n",
        "    model.train()\n",
        "    epoch_losses = []\n",
        "\n",
        "    for epoch in range(num_epochs):\n",
        "        running_loss = 0.0\n",
        "        for X_batch, y_batch in dataloader:\n",
        "            X_batch, y_batch = X_batch.to(device), y_batch.to(device)\n",
        "            optimizer.zero_grad()\n",
        "            y_pred = model(X_batch)\n",
        "            loss = criterion(y_pred, y_batch)\n",
        "            loss.backward()\n",
        "            optimizer.step()\n",
        "            running_loss += loss.item()\n",
        "\n",
        "        avg_loss = running_loss / len(dataloader)\n",
        "        epoch_losses.append(avg_loss)\n",
        "        if (epoch + 1) % 100 == 0:\n",
        "            print(f\"Epoch {epoch+1}/{num_epochs}, Loss: {avg_loss:.4f}\")\n",
        "\n",
        "    return epoch_losses"
      ]
    },
    {
      "cell_type": "markdown",
      "metadata": {
        "id": "yAT68sixhYJY"
      },
      "source": [
        "## **2.4: Evaluation Metrics**"
      ]
    },
    {
      "cell_type": "code",
      "execution_count": 16,
      "metadata": {
        "id": "vnfj-9trhVu9"
      },
      "outputs": [],
      "source": [
        "def evaluate_model(model, dataloader, y_true, device):\n",
        "    model.eval()\n",
        "    preds = []\n",
        "\n",
        "    with torch.no_grad():\n",
        "        for X_batch, _ in dataloader:\n",
        "            X_batch = X_batch.to(device)\n",
        "            y_pred = model(X_batch)\n",
        "            preds.append(y_pred.cpu().numpy())\n",
        "\n",
        "    y_pred = np.vstack(preds).flatten()\n",
        "    y_true = y_true.values.flatten()\n",
        "\n",
        "    mae = mean_absolute_error(y_true, y_pred)\n",
        "    r2 = r2_score(y_true, y_pred)\n",
        "    cc = np.corrcoef(y_true, y_pred)[0, 1]\n",
        "    rae = np.sum(np.abs(y_true - y_pred)) / np.sum(np.abs(y_true - np.mean(y_true)))\n",
        "\n",
        "    return {\n",
        "        'MAE': mae,\n",
        "        'R2': r2,\n",
        "        'CC': cc,\n",
        "        'RAE (%)': rae * 100\n",
        "    }"
      ]
    },
    {
      "cell_type": "markdown",
      "metadata": {
        "id": "qaf_fyhBhh4_"
      },
      "source": [
        "## **2.5: Train MLP Model**"
      ]
    },
    {
      "cell_type": "code",
      "execution_count": 17,
      "metadata": {
        "colab": {
          "base_uri": "https://localhost:8080/"
        },
        "id": "5AnTYncDhdaT",
        "outputId": "98abf9dd-8ae3-488e-81f6-3c0e3039a698"
      },
      "outputs": [
        {
          "name": "stdout",
          "output_type": "stream",
          "text": [
            "Using device: cpu\n",
            "Epoch 100/5000, Loss: 175629985.2227\n",
            "Epoch 200/5000, Loss: 153442709.2727\n",
            "Epoch 300/5000, Loss: 129632438.1182\n",
            "Epoch 400/5000, Loss: 111250061.3227\n",
            "Epoch 500/5000, Loss: 161516541.4136\n",
            "Epoch 600/5000, Loss: 97672309.3000\n",
            "Epoch 700/5000, Loss: 113080408.8727\n",
            "Epoch 800/5000, Loss: 76519854.4523\n",
            "Epoch 900/5000, Loss: 61694848.1489\n",
            "Epoch 1000/5000, Loss: 55111819.0523\n",
            "Epoch 1100/5000, Loss: 51766629.3545\n",
            "Epoch 1200/5000, Loss: 49756126.1432\n",
            "Epoch 1300/5000, Loss: 50974967.1364\n",
            "Epoch 1400/5000, Loss: 48680232.5943\n",
            "Epoch 1500/5000, Loss: 47621446.9818\n",
            "Epoch 1600/5000, Loss: 48583427.1000\n",
            "Epoch 1700/5000, Loss: 47374618.5591\n",
            "Epoch 1800/5000, Loss: 46800109.9909\n",
            "Epoch 1900/5000, Loss: 46674568.9977\n",
            "Epoch 2000/5000, Loss: 47242995.3205\n",
            "Epoch 2100/5000, Loss: 45826385.2864\n",
            "Epoch 2200/5000, Loss: 68502038.7682\n",
            "Epoch 2300/5000, Loss: 44968313.9545\n",
            "Epoch 2400/5000, Loss: 45210702.3705\n",
            "Epoch 2500/5000, Loss: 43315275.6409\n",
            "Epoch 2600/5000, Loss: 45184811.9932\n",
            "Epoch 2700/5000, Loss: 42669475.3432\n",
            "Epoch 2800/5000, Loss: 41725224.9432\n",
            "Epoch 2900/5000, Loss: 41733543.7932\n",
            "Epoch 3000/5000, Loss: 41073552.0409\n",
            "Epoch 3100/5000, Loss: 40364577.6977\n",
            "Epoch 3200/5000, Loss: 39019169.8500\n",
            "Epoch 3300/5000, Loss: 38362619.5955\n",
            "Epoch 3400/5000, Loss: 39417523.5932\n",
            "Epoch 3500/5000, Loss: 40037881.7727\n",
            "Epoch 3600/5000, Loss: 36686678.0159\n",
            "Epoch 3700/5000, Loss: 36873896.7148\n",
            "Epoch 3800/5000, Loss: 36029882.9318\n",
            "Epoch 3900/5000, Loss: 34231114.4114\n",
            "Epoch 4000/5000, Loss: 34064867.8341\n",
            "Epoch 4100/5000, Loss: 34403331.4955\n",
            "Epoch 4200/5000, Loss: 31543372.6364\n",
            "Epoch 4300/5000, Loss: 33379621.6795\n",
            "Epoch 4400/5000, Loss: 30467108.9795\n",
            "Epoch 4500/5000, Loss: 31947134.1227\n",
            "Epoch 4600/5000, Loss: 35428564.4045\n",
            "Epoch 4700/5000, Loss: 34093015.8602\n",
            "Epoch 4800/5000, Loss: 33731130.6989\n",
            "Epoch 4900/5000, Loss: 33872588.1409\n",
            "Epoch 5000/5000, Loss: 33787567.9068\n"
          ]
        }
      ],
      "source": [
        "device = torch.device(\"cuda\" if torch.cuda.is_available() else \"cpu\")\n",
        "print(\"Using device:\", device)\n",
        "\n",
        "# number of epochs\n",
        "num_epochs = 5000\n",
        "\n",
        "# initialize model and optimizer\n",
        "model = MLPRegressor(input_size=X_train.shape[1]).to(device)\n",
        "optimizer = torch.optim.Adam(model.parameters(), lr=0.001)\n",
        "criterion = nn.MSELoss()\n",
        "\n",
        "# Train and collect loss per epoch\n",
        "loss_history = train_model(model, train_loader, optimizer, criterion, device, num_epochs=num_epochs)\n",
        "torch.save(model.state_dict(), 'mlp_burst_predictor.pth')"
      ]
    },
    {
      "cell_type": "code",
      "execution_count": 18,
      "metadata": {
        "id": "pPeV97Hbko1C"
      },
      "outputs": [],
      "source": [
        "import matplotlib.pyplot as plt\n",
        "plt.rcParams['font.family'] = 'serif'\n",
        "plt.rcParams['font.serif'] = ['Times New Roman'] + plt.rcParams['font.serif']\n",
        "\n",
        "def loss_plot(num_epochs, loss_history):\n",
        "    plt.figure(figsize=(10, 6))\n",
        "    plt.plot(range(1, num_epochs + 1), loss_history)\n",
        "    plt.title(\"Training Loss Curve (MLP)\")\n",
        "    plt.xlabel(\"Epoch\")\n",
        "    plt.ylabel(\"MSE Loss\")\n",
        "    plt.grid(True)\n",
        "    plt.show()"
      ]
    },
    {
      "cell_type": "code",
      "execution_count": 19,
      "metadata": {
        "colab": {
          "base_uri": "https://localhost:8080/",
          "height": 141
        },
        "id": "1ssAQ0OGtyYF",
        "outputId": "8bc728ee-024f-4a43-9265-a845c5f7b390"
      },
      "outputs": [
        {
          "data": {
            "image/png": "[encoded data removed]",
            "text/plain": [
              "<Figure size 1000x600 with 1 Axes>"
            ]
          },
          "metadata": {},
          "output_type": "display_data"
        }
      ],
      "source": [
        "loss_plot(num_epochs, loss_history)"
      ]
    },
    {
      "cell_type": "markdown",
      "metadata": {
        "id": "znKRgvq-nYsY"
      },
      "source": [
        "# **3. Model Evaluation and Prediction**"
      ]
    },
    {
      "cell_type": "markdown",
      "metadata": {
        "id": "b_uVumkBnj9q"
      },
      "source": [
        "## **3.1: Evaluation metrics**"
      ]
    },
    {
      "cell_type": "code",
      "execution_count": 20,
      "metadata": {
        "colab": {
          "base_uri": "https://localhost:8080/"
        },
        "id": "tPdY90_Ul_UO",
        "outputId": "00ee34eb-b916-4cf6-8932-37ab29b99eb7"
      },
      "outputs": [
        {
          "name": "stdout",
          "output_type": "stream",
          "text": [
            "Evaluation Metrics:\n",
            "MAE: 1958.7623\n",
            "R2: 0.9213\n",
            "CC: 0.9607\n",
            "RAE (%): 7.0434\n"
          ]
        }
      ],
      "source": [
        "# y_test must be a numpy array or torch tensor (already flattened)\n",
        "results = evaluate_model(model, test_loader, y_test, device)\n",
        "\n",
        "# Print results\n",
        "print(\"Evaluation Metrics:\")\n",
        "for k, v in results.items():\n",
        "    print(f\"{k}: {v:.4f}\")"
      ]
    },
    {
      "cell_type": "markdown",
      "metadata": {
        "id": "hetvEovunp2m"
      },
      "source": [
        "## **3.2: Prediction**"
      ]
    },
    {
      "cell_type": "code",
      "execution_count": 21,
      "metadata": {
        "id": "DWpAj0vNnsyV"
      },
      "outputs": [],
      "source": [
        "model.eval()\n",
        "predictions = []\n",
        "\n",
        "with torch.no_grad():\n",
        "    for X_batch, _ in test_loader:\n",
        "        X_batch = X_batch.to(device)\n",
        "        y_pred = model(X_batch)\n",
        "        predictions.append(y_pred.cpu().numpy())\n",
        "\n",
        "# Flatten into one array\n",
        "y_pred = np.vstack(predictions).flatten()"
      ]
    },
    {
      "cell_type": "code",
      "execution_count": 22,
      "metadata": {
        "id": "D077MfxDnvuf"
      },
      "outputs": [],
      "source": [
        "# Convert true y values to a flat array if not already\n",
        "y_true = y_test.values.flatten()"
      ]
    },
    {
      "cell_type": "code",
      "execution_count": 23,
      "metadata": {
        "colab": {
          "base_uri": "https://localhost:8080/",
          "height": 677
        },
        "id": "wCbSHxl6nxpd",
        "outputId": "5ba80b4c-276c-4861-9e81-7306485b0194"
      },
      "outputs": [
        {
          "data": {
            "text/html": [
              "<div>\n",
              "<style scoped>\n",
              "    .dataframe tbody tr th:only-of-type {\n",
              "        vertical-align: middle;\n",
              "    }\n",
              "\n",
              "    .dataframe tbody tr th {\n",
              "        vertical-align: top;\n",
              "    }\n",
              "\n",
              "    .dataframe thead th {\n",
              "        text-align: right;\n",
              "    }\n",
              "</style>\n",
              "<table border=\"1\" class=\"dataframe\">\n",
              "  <thead>\n",
              "    <tr style=\"text-align: right;\">\n",
              "      <th></th>\n",
              "      <th>Actual (RunTime)</th>\n",
              "      <th>Predicted (RunTime)</th>\n",
              "    </tr>\n",
              "  </thead>\n",
              "  <tbody>\n",
              "    <tr>\n",
              "      <th>0</th>\n",
              "      <td>46</td>\n",
              "      <td>0.000000</td>\n",
              "    </tr>\n",
              "    <tr>\n",
              "      <th>1</th>\n",
              "      <td>1850</td>\n",
              "      <td>0.000000</td>\n",
              "    </tr>\n",
              "    <tr>\n",
              "      <th>2</th>\n",
              "      <td>2680</td>\n",
              "      <td>0.000000</td>\n",
              "    </tr>\n",
              "    <tr>\n",
              "      <th>3</th>\n",
              "      <td>94265</td>\n",
              "      <td>92855.203125</td>\n",
              "    </tr>\n",
              "    <tr>\n",
              "      <th>4</th>\n",
              "      <td>56679</td>\n",
              "      <td>54916.281250</td>\n",
              "    </tr>\n",
              "    <tr>\n",
              "      <th>5</th>\n",
              "      <td>39076</td>\n",
              "      <td>40186.031250</td>\n",
              "    </tr>\n",
              "    <tr>\n",
              "      <th>6</th>\n",
              "      <td>1854</td>\n",
              "      <td>0.000000</td>\n",
              "    </tr>\n",
              "    <tr>\n",
              "      <th>7</th>\n",
              "      <td>28256</td>\n",
              "      <td>18161.970703</td>\n",
              "    </tr>\n",
              "    <tr>\n",
              "      <th>8</th>\n",
              "      <td>1851</td>\n",
              "      <td>0.000000</td>\n",
              "    </tr>\n",
              "    <tr>\n",
              "      <th>9</th>\n",
              "      <td>11</td>\n",
              "      <td>0.000000</td>\n",
              "    </tr>\n",
              "    <tr>\n",
              "      <th>10</th>\n",
              "      <td>110922</td>\n",
              "      <td>68138.343750</td>\n",
              "    </tr>\n",
              "    <tr>\n",
              "      <th>11</th>\n",
              "      <td>1</td>\n",
              "      <td>0.000000</td>\n",
              "    </tr>\n",
              "    <tr>\n",
              "      <th>12</th>\n",
              "      <td>20436</td>\n",
              "      <td>16536.240234</td>\n",
              "    </tr>\n",
              "    <tr>\n",
              "      <th>13</th>\n",
              "      <td>19607</td>\n",
              "      <td>18339.460938</td>\n",
              "    </tr>\n",
              "    <tr>\n",
              "      <th>14</th>\n",
              "      <td>42</td>\n",
              "      <td>0.000000</td>\n",
              "    </tr>\n",
              "    <tr>\n",
              "      <th>15</th>\n",
              "      <td>27</td>\n",
              "      <td>0.000000</td>\n",
              "    </tr>\n",
              "    <tr>\n",
              "      <th>16</th>\n",
              "      <td>73</td>\n",
              "      <td>0.000000</td>\n",
              "    </tr>\n",
              "    <tr>\n",
              "      <th>17</th>\n",
              "      <td>111</td>\n",
              "      <td>0.000000</td>\n",
              "    </tr>\n",
              "    <tr>\n",
              "      <th>18</th>\n",
              "      <td>95298</td>\n",
              "      <td>95682.968750</td>\n",
              "    </tr>\n",
              "    <tr>\n",
              "      <th>19</th>\n",
              "      <td>1851</td>\n",
              "      <td>0.000000</td>\n",
              "    </tr>\n",
              "  </tbody>\n",
              "</table>\n",
              "</div>"
            ],
            "text/plain": [
              "    Actual (RunTime)  Predicted (RunTime)\n",
              "0                 46             0.000000\n",
              "1               1850             0.000000\n",
              "2               2680             0.000000\n",
              "3              94265         92855.203125\n",
              "4              56679         54916.281250\n",
              "5              39076         40186.031250\n",
              "6               1854             0.000000\n",
              "7              28256         18161.970703\n",
              "8               1851             0.000000\n",
              "9                 11             0.000000\n",
              "10            110922         68138.343750\n",
              "11                 1             0.000000\n",
              "12             20436         16536.240234\n",
              "13             19607         18339.460938\n",
              "14                42             0.000000\n",
              "15                27             0.000000\n",
              "16                73             0.000000\n",
              "17               111             0.000000\n",
              "18             95298         95682.968750\n",
              "19              1851             0.000000"
            ]
          },
          "execution_count": 23,
          "metadata": {},
          "output_type": "execute_result"
        }
      ],
      "source": [
        "# Show a few examples\n",
        "import pandas as pd\n",
        "\n",
        "comparison_df = pd.DataFrame({\n",
        "    \"Actual (RunTime)\": y_true[20:40],\n",
        "    \"Predicted (RunTime)\": y_pred[20:40]\n",
        "})\n",
        "\n",
        "# Round for cleaner display\n",
        "comparison_df = comparison_df.round(2)\n",
        "\n",
        "# Display as table\n",
        "comparison_df"
      ]
    },
    {
      "cell_type": "code",
      "execution_count": 24,
      "metadata": {
        "id": "LnRcUBEj8Dpy"
      },
      "outputs": [],
      "source": [
        "def plot_mlp_predictions(model, dataloader, y_test_raw, device, title=\"MLP\"):\n",
        "    model.eval()\n",
        "    preds = []\n",
        "\n",
        "    with torch.no_grad():\n",
        "        for X_batch, _ in dataloader:\n",
        "            X_batch = X_batch.to(device)\n",
        "            y_pred = model(X_batch)\n",
        "            preds.append(y_pred.cpu().numpy())\n",
        "\n",
        "    y_pred = np.vstack(preds).flatten()\n",
        "    y_true = y_test_raw.values.flatten()\n",
        "\n",
        "    # Plot\n",
        "    plt.figure(figsize=(8, 6))\n",
        "    plt.scatter(y_true, y_pred, alpha=0.5)\n",
        "    plt.plot([y_true.min(), y_true.max()], [y_true.min(), y_true.max()],\n",
        "             'r--', label='Perfect Prediction')\n",
        "    plt.xlabel(\"Actual RunTime\")\n",
        "    plt.ylabel(\"Predicted RunTime\")\n",
        "    plt.title(f\"{title} - Actual vs Predicted\")\n",
        "    plt.legend()\n",
        "    plt.grid(True)\n",
        "    plt.show()\n"
      ]
    },
    {
      "cell_type": "code",
      "execution_count": 25,
      "metadata": {
        "colab": {
          "base_uri": "https://localhost:8080/",
          "height": 563
        },
        "id": "wfksUY9b8Kke",
        "outputId": "0caf5ed0-1adc-4f07-e64e-50ca23b22b84"
      },
      "outputs": [
        {
          "data": {
            "image/png": "[encoded data removed]",
            "text/plain": [
              "<Figure size 800x600 with 1 Axes>"
            ]
          },
          "metadata": {},
          "output_type": "display_data"
        }
      ],
      "source": [
        "plot_mlp_predictions(model, test_loader, y_test, device, title=\"MLP Regressor\")"
      ]
    }
  ],
  "metadata": {
    "colab": {
      "provenance": []
    },
    "kernelspec": {
      "display_name": "base",
      "language": "python",
      "name": "python3"
    },
    "language_info": {
      "codemirror_mode": {
        "name": "ipython",
        "version": 3
      },
      "file_extension": ".py",
      "mimetype": "text/x-python",
      "name": "python",
      "nbconvert_exporter": "python",
      "pygments_lexer": "ipython3",
      "version": "3.12.2"
    }
  },
  "nbformat": 4,
  "nbformat_minor": 0
}
